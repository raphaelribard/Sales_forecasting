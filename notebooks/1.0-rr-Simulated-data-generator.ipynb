{
 "cells": [
  {
   "cell_type": "markdown",
   "metadata": {},
   "source": [
    "# This notebook will generate the synthetic data required as an input to our Facebook/Prophet model\n",
    "- Some noise will be added to the data to reflect real data!\n",
    "- This notebook output will be saved in the data folder (RAW)"
   ]
  },
  {
   "cell_type": "markdown",
   "metadata": {},
   "source": [
    "## Two tables will be generated:\n",
    "- The first table will attach every product to a cluster of products (5 clusters A, B, C, D and E will be used):\n",
    "\n",
    "| Product_code  |  Associated cluster |\n",
    "|---|---|\n",
    "| CLA01  |  A  |\n",
    "| CLA02  |   E  |\n",
    "| CLB01  |   A  |\n",
    "\n",
    "The product code 3 first characters define the client : CLA : Client A , CLB : Client B etc.\n",
    "\n",
    "- The second table is the actual Sales history table:\n",
    "\n",
    "| Product_code  | Date  |  Quantity |\n",
    "|---|---|---|\n",
    "|  CLB01 | 25/07/2019  | 1,000  |\n",
    "|  CLB01 | 19/07/2019  |  1,500 |\n",
    "|   CLA02 | 23/07/2019  |  10,000 |"
   ]
  },
  {
   "cell_type": "markdown",
   "metadata": {},
   "source": [
    "### Product table generation\n",
    "\n",
    "#### 1. Import the famous pandas and numpy libraries"
   ]
  },
  {
   "cell_type": "code",
   "execution_count": 21,
   "metadata": {},
   "outputs": [],
   "source": [
    "import pandas as pd\n",
    "import numpy as np"
   ]
  },
  {
   "cell_type": "code",
   "execution_count": 55,
   "metadata": {},
   "outputs": [],
   "source": [
    "#This sets the seed to always generate the same data\n",
    "\n",
    "from numpy.random import RandomState\n",
    "random_state=RandomState(9999)"
   ]
  },
  {
   "cell_type": "code",
   "execution_count": 54,
   "metadata": {},
   "outputs": [],
   "source": [
    "#Input parameters\n",
    "\n",
    "number_of_clients=5\n",
    "min_number_of_products_per_client=1\n",
    "max_number_of_products_per_client=6"
   ]
  },
  {
   "cell_type": "code",
   "execution_count": 56,
   "metadata": {},
   "outputs": [],
   "source": [
    "number_of_products_list=random_state.randint(min_number_of_products_per_client,\n",
    "                                             max_number_of_products_per_client,\n",
    "                                             number_of_clients)"
   ]
  },
  {
   "cell_type": "code",
   "execution_count": 57,
   "metadata": {},
   "outputs": [
    {
     "data": {
      "text/plain": [
       "array([2, 5, 2, 4, 1])"
      ]
     },
     "execution_count": 57,
     "metadata": {},
     "output_type": "execute_result"
    }
   ],
   "source": [
    "number_of_products_list"
   ]
  },
  {
   "cell_type": "code",
   "execution_count": 41,
   "metadata": {},
   "outputs": [],
   "source": [
    "def letter_range(start, stop=\"{\", step=1):\n",
    "    \"\"\"Yield a range of lowercase letters.\"\"\" \n",
    "    for ord_ in range(ord(start.upper()), ord(stop.upper()), step):\n",
    "        yield chr(ord_)"
   ]
  },
  {
   "cell_type": "code",
   "execution_count": 63,
   "metadata": {},
   "outputs": [],
   "source": [
    "clients_list=['CL'+ l for l in letter_range(chr(97),chr(97+number_of_clients))]"
   ]
  },
  {
   "cell_type": "code",
   "execution_count": 64,
   "metadata": {},
   "outputs": [
    {
     "data": {
      "text/plain": [
       "['CLA', 'CLB', 'CLC', 'CLD', 'CLE']"
      ]
     },
     "execution_count": 64,
     "metadata": {},
     "output_type": "execute_result"
    }
   ],
   "source": [
    "clients_list"
   ]
  },
  {
   "cell_type": "code",
   "execution_count": null,
   "metadata": {},
   "outputs": [],
   "source": []
  }
 ],
 "metadata": {
  "kernelspec": {
   "display_name": "fastai",
   "language": "python",
   "name": "fastai"
  },
  "language_info": {
   "codemirror_mode": {
    "name": "ipython",
    "version": 3
   },
   "file_extension": ".py",
   "mimetype": "text/x-python",
   "name": "python",
   "nbconvert_exporter": "python",
   "pygments_lexer": "ipython3",
   "version": "3.7.3"
  }
 },
 "nbformat": 4,
 "nbformat_minor": 2
}
