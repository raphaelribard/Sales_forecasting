{
 "cells": [
  {
   "cell_type": "markdown",
   "metadata": {},
   "source": [
    "# This notebook will generate the synthetic data required as an input to our Facebook/Prophet model\n",
    "- Some noise will be added to the data to reflect real data!\n",
    "- This notebook output will be saved in the data folder (RAW)"
   ]
  },
  {
   "cell_type": "markdown",
   "metadata": {},
   "source": [
    "## Two tables will be generated:\n",
    "- The first table will attach every product to a cluster of products (5 clusters A, B, C, D and E will be used):\n",
    "\n",
    "| Product_code  |  Associated cluster |\n",
    "|---|---|\n",
    "| CLA01  |  A  |\n",
    "| CLA02  |   E  |\n",
    "| CLB01  |   A  |\n",
    "\n",
    "The product code 3 first characters define the client : CLA : Client A , CLB : Client B etc.\n",
    "\n",
    "- The second table is the actual Sales history table:\n",
    "\n",
    "| Product_code  | Date  |  Quantity |\n",
    "|---|---|---|\n",
    "|  CLB01 | 25/07/2019  | 1,000  |\n",
    "|  CLB01 | 19/07/2019  |  1,500 |\n",
    "|   CLA02 | 23/07/2019  |  10,000 |"
   ]
  },
  {
   "cell_type": "markdown",
   "metadata": {},
   "source": [
    "### Product table generation\n",
    "\n",
    "#### 1. Import the famous pandas and numpy libraries"
   ]
  },
  {
   "cell_type": "code",
   "execution_count": 2,
   "metadata": {},
   "outputs": [],
   "source": [
    "import pandas as pd\n",
    "import numpy as np"
   ]
  },
  {
   "cell_type": "code",
   "execution_count": 3,
   "metadata": {},
   "outputs": [],
   "source": [
    "#This sets the seed to always generate the same data\n",
    "\n",
    "from numpy.random import RandomState\n",
    "random_state=RandomState(9999)"
   ]
  },
  {
   "cell_type": "code",
   "execution_count": 23,
   "metadata": {},
   "outputs": [],
   "source": [
    "#Input parameters\n",
    "\n",
    "number_of_clients=5\n",
    "min_number_of_products_per_client=1\n",
    "max_number_of_products_per_client=6\n",
    "number_of_clusters=5"
   ]
  },
  {
   "cell_type": "code",
   "execution_count": 5,
   "metadata": {},
   "outputs": [],
   "source": [
    "number_of_products_list=random_state.randint(min_number_of_products_per_client,\n",
    "                                             max_number_of_products_per_client,\n",
    "                                             number_of_clients)"
   ]
  },
  {
   "cell_type": "code",
   "execution_count": 6,
   "metadata": {},
   "outputs": [
    {
     "data": {
      "text/plain": [
       "array([2, 5, 2, 4, 1])"
      ]
     },
     "execution_count": 6,
     "metadata": {},
     "output_type": "execute_result"
    }
   ],
   "source": [
    "number_of_products_list"
   ]
  },
  {
   "cell_type": "code",
   "execution_count": 7,
   "metadata": {},
   "outputs": [],
   "source": [
    "def letter_range(start, stop=\"{\", step=1):\n",
    "    \"\"\"Yield a range of lowercase letters.\"\"\" \n",
    "    for ord_ in range(ord(start.upper()), ord(stop.upper()), step):\n",
    "        yield chr(ord_)"
   ]
  },
  {
   "cell_type": "code",
   "execution_count": 8,
   "metadata": {},
   "outputs": [],
   "source": [
    "clients_list=['CL'+ l for l in letter_range(chr(97),chr(97+number_of_clients))]"
   ]
  },
  {
   "cell_type": "code",
   "execution_count": 9,
   "metadata": {},
   "outputs": [
    {
     "data": {
      "text/plain": [
       "['CLA', 'CLB', 'CLC', 'CLD', 'CLE']"
      ]
     },
     "execution_count": 9,
     "metadata": {},
     "output_type": "execute_result"
    }
   ],
   "source": [
    "clients_list"
   ]
  },
  {
   "cell_type": "code",
   "execution_count": 18,
   "metadata": {},
   "outputs": [],
   "source": [
    "product_codes=[(client,client+str(i)) for number_of_products,client in zip(number_of_products_list,clients_list) for i in range(number_of_products) ]"
   ]
  },
  {
   "cell_type": "code",
   "execution_count": 19,
   "metadata": {},
   "outputs": [
    {
     "data": {
      "text/plain": [
       "[('CLA', 'CLA0'),\n",
       " ('CLA', 'CLA1'),\n",
       " ('CLB', 'CLB0'),\n",
       " ('CLB', 'CLB1'),\n",
       " ('CLB', 'CLB2'),\n",
       " ('CLB', 'CLB3'),\n",
       " ('CLB', 'CLB4'),\n",
       " ('CLC', 'CLC0'),\n",
       " ('CLC', 'CLC1'),\n",
       " ('CLD', 'CLD0'),\n",
       " ('CLD', 'CLD1'),\n",
       " ('CLD', 'CLD2'),\n",
       " ('CLD', 'CLD3'),\n",
       " ('CLE', 'CLE0')]"
      ]
     },
     "execution_count": 19,
     "metadata": {},
     "output_type": "execute_result"
    }
   ],
   "source": [
    "product_codes"
   ]
  },
  {
   "cell_type": "code",
   "execution_count": 35,
   "metadata": {},
   "outputs": [],
   "source": [
    "index = pd.MultiIndex.from_tuples(product_codes, names=['first', 'second'])"
   ]
  },
  {
   "cell_type": "code",
   "execution_count": 36,
   "metadata": {},
   "outputs": [],
   "source": [
    "product_table=pd.Series(random_state.randint(0,number_of_clusters, len(product_codes)), index=index)"
   ]
  },
  {
   "cell_type": "code",
   "execution_count": 46,
   "metadata": {},
   "outputs": [
    {
     "data": {
      "text/plain": [
       "first  second\n",
       "CLA    CLA0      1\n",
       "       CLA1      3\n",
       "CLB    CLB0      0\n",
       "       CLB1      1\n",
       "       CLB2      2\n",
       "       CLB3      4\n",
       "       CLB4      2\n",
       "CLC    CLC0      1\n",
       "       CLC1      2\n",
       "CLD    CLD0      0\n",
       "       CLD1      4\n",
       "       CLD2      2\n",
       "       CLD3      3\n",
       "CLE    CLE0      3\n",
       "Name: Cluster, dtype: int64"
      ]
     },
     "execution_count": 46,
     "metadata": {},
     "output_type": "execute_result"
    }
   ],
   "source": [
    "product_table.rename('Cluster',inplace=True)"
   ]
  },
  {
   "cell_type": "code",
   "execution_count": 47,
   "metadata": {},
   "outputs": [
    {
     "data": {
      "text/plain": [
       "first  second\n",
       "CLA    CLA0      1\n",
       "       CLA1      3\n",
       "CLB    CLB0      0\n",
       "       CLB1      1\n",
       "       CLB2      2\n",
       "       CLB3      4\n",
       "       CLB4      2\n",
       "CLC    CLC0      1\n",
       "       CLC1      2\n",
       "CLD    CLD0      0\n",
       "       CLD1      4\n",
       "       CLD2      2\n",
       "       CLD3      3\n",
       "CLE    CLE0      3\n",
       "Name: Cluster, dtype: int64"
      ]
     },
     "execution_count": 47,
     "metadata": {},
     "output_type": "execute_result"
    }
   ],
   "source": [
    "product_table"
   ]
  },
  {
   "cell_type": "markdown",
   "metadata": {},
   "source": [
    "#### Now building the Sales table"
   ]
  },
  {
   "cell_type": "code",
   "execution_count": 55,
   "metadata": {},
   "outputs": [],
   "source": [
    "products_list=product_table.index.levels[1].values"
   ]
  },
  {
   "cell_type": "code",
   "execution_count": 56,
   "metadata": {},
   "outputs": [],
   "source": [
    "# This sets the frequencies in days for each product which will be used for the dates generator\n",
    "products_frequencies=random_state.randint(1,365.25//2,len(products_list))"
   ]
  },
  {
   "cell_type": "code",
   "execution_count": 57,
   "metadata": {},
   "outputs": [
    {
     "data": {
      "text/plain": [
       "array([141,  75,  74, 147, 114,  91,  69, 161,  44, 104, 171, 103,  27,\n",
       "        89])"
      ]
     },
     "execution_count": 57,
     "metadata": {},
     "output_type": "execute_result"
    }
   ],
   "source": [
    "products_frequencies"
   ]
  },
  {
   "cell_type": "code",
   "execution_count": null,
   "metadata": {},
   "outputs": [],
   "source": []
  }
 ],
 "metadata": {
  "kernelspec": {
   "display_name": "fastai",
   "language": "python",
   "name": "fastai"
  },
  "language_info": {
   "codemirror_mode": {
    "name": "ipython",
    "version": 3
   },
   "file_extension": ".py",
   "mimetype": "text/x-python",
   "name": "python",
   "nbconvert_exporter": "python",
   "pygments_lexer": "ipython3",
   "version": "3.7.3"
  }
 },
 "nbformat": 4,
 "nbformat_minor": 2
}
