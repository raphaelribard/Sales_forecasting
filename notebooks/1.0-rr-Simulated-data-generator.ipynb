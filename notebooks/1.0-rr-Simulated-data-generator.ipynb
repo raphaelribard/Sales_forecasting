{
 "cells": [
  {
   "cell_type": "markdown",
   "metadata": {},
   "source": [
    "# This notebook will generate the synthetic data required as an input to our Facebook/Prophet model\n",
    "- Some noise will be added to the data to reflect real data!\n",
    "- This notebook output will be saved in the data folder (RAW)"
   ]
  },
  {
   "cell_type": "markdown",
   "metadata": {},
   "source": [
    "## Two tables will be generated:\n",
    "- The first table will attach every product to a cluster of products (5 clusters A, B, C, D and E will be used):\n",
    "\n",
    "| Product_code  |  Associated cluster |\n",
    "|---|---|\n",
    "| CLA01  |  A  |\n",
    "| CLA02  |   E  |\n",
    "| CLB01  |   A  |\n",
    "\n",
    "The product code 3 first characters define the client : CLA : Client A , CLB : Client B etc.\n",
    "\n",
    "- The second table is the actual Sales history table:\n",
    "\n",
    "| Product_code  | Date  |  Quantity |\n",
    "|---|---|---|\n",
    "|  CLB01 | 25/07/2019  | 1,000  |\n",
    "|  CLB01 | 19/07/2019  |  1,500 |\n",
    "|   CLA02 | 23/07/2019  |  10,000 |"
   ]
  },
  {
   "cell_type": "markdown",
   "metadata": {},
   "source": [
    "### Product table generation\n",
    "\n",
    "#### 1. Import the famous pandas and numpy libraries"
   ]
  },
  {
   "cell_type": "code",
   "execution_count": 2,
   "metadata": {},
   "outputs": [],
   "source": [
    "import pandas as pd\n",
    "import numpy as np"
   ]
  },
  {
   "cell_type": "code",
   "execution_count": 3,
   "metadata": {},
   "outputs": [],
   "source": [
    "#This sets the seed to always generate the same data\n",
    "\n",
    "from numpy.random import RandomState\n",
    "random_state=RandomState(9999)"
   ]
  },
  {
   "cell_type": "code",
   "execution_count": 23,
   "metadata": {},
   "outputs": [],
   "source": [
    "#Input parameters\n",
    "\n",
    "number_of_clients=5\n",
    "min_number_of_products_per_client=1\n",
    "max_number_of_products_per_client=6\n",
    "number_of_clusters=5"
   ]
  },
  {
   "cell_type": "code",
   "execution_count": 5,
   "metadata": {},
   "outputs": [],
   "source": [
    "number_of_products_list=random_state.randint(min_number_of_products_per_client,\n",
    "                                             max_number_of_products_per_client,\n",
    "                                             number_of_clients)"
   ]
  },
  {
   "cell_type": "code",
   "execution_count": 6,
   "metadata": {},
   "outputs": [
    {
     "data": {
      "text/plain": [
       "array([2, 5, 2, 4, 1])"
      ]
     },
     "execution_count": 6,
     "metadata": {},
     "output_type": "execute_result"
    }
   ],
   "source": [
    "number_of_products_list"
   ]
  },
  {
   "cell_type": "code",
   "execution_count": 7,
   "metadata": {},
   "outputs": [],
   "source": [
    "def letter_range(start, stop=\"{\", step=1):\n",
    "    \"\"\"Yield a range of lowercase letters.\"\"\" \n",
    "    for ord_ in range(ord(start.upper()), ord(stop.upper()), step):\n",
    "        yield chr(ord_)"
   ]
  },
  {
   "cell_type": "code",
   "execution_count": 8,
   "metadata": {},
   "outputs": [],
   "source": [
    "clients_list=['CL'+ l for l in letter_range(chr(97),chr(97+number_of_clients))]"
   ]
  },
  {
   "cell_type": "code",
   "execution_count": 9,
   "metadata": {},
   "outputs": [
    {
     "data": {
      "text/plain": [
       "['CLA', 'CLB', 'CLC', 'CLD', 'CLE']"
      ]
     },
     "execution_count": 9,
     "metadata": {},
     "output_type": "execute_result"
    }
   ],
   "source": [
    "clients_list"
   ]
  },
  {
   "cell_type": "code",
   "execution_count": 18,
   "metadata": {},
   "outputs": [],
   "source": [
    "product_codes=[(client,client+str(i)) for number_of_products,client in zip(number_of_products_list,clients_list) \n",
    "               for i in range(number_of_products) ]"
   ]
  },
  {
   "cell_type": "code",
   "execution_count": 19,
   "metadata": {},
   "outputs": [
    {
     "data": {
      "text/plain": [
       "[('CLA', 'CLA0'),\n",
       " ('CLA', 'CLA1'),\n",
       " ('CLB', 'CLB0'),\n",
       " ('CLB', 'CLB1'),\n",
       " ('CLB', 'CLB2'),\n",
       " ('CLB', 'CLB3'),\n",
       " ('CLB', 'CLB4'),\n",
       " ('CLC', 'CLC0'),\n",
       " ('CLC', 'CLC1'),\n",
       " ('CLD', 'CLD0'),\n",
       " ('CLD', 'CLD1'),\n",
       " ('CLD', 'CLD2'),\n",
       " ('CLD', 'CLD3'),\n",
       " ('CLE', 'CLE0')]"
      ]
     },
     "execution_count": 19,
     "metadata": {},
     "output_type": "execute_result"
    }
   ],
   "source": [
    "product_codes"
   ]
  },
  {
   "cell_type": "code",
   "execution_count": 35,
   "metadata": {},
   "outputs": [],
   "source": [
    "index = pd.MultiIndex.from_tuples(product_codes, names=['first', 'second'])"
   ]
  },
  {
   "cell_type": "code",
   "execution_count": 36,
   "metadata": {},
   "outputs": [],
   "source": [
    "product_table=pd.Series(random_state.randint(0,number_of_clusters, len(product_codes)), index=index)"
   ]
  },
  {
   "cell_type": "code",
   "execution_count": 46,
   "metadata": {},
   "outputs": [
    {
     "data": {
      "text/plain": [
       "first  second\n",
       "CLA    CLA0      1\n",
       "       CLA1      3\n",
       "CLB    CLB0      0\n",
       "       CLB1      1\n",
       "       CLB2      2\n",
       "       CLB3      4\n",
       "       CLB4      2\n",
       "CLC    CLC0      1\n",
       "       CLC1      2\n",
       "CLD    CLD0      0\n",
       "       CLD1      4\n",
       "       CLD2      2\n",
       "       CLD3      3\n",
       "CLE    CLE0      3\n",
       "Name: Cluster, dtype: int64"
      ]
     },
     "execution_count": 46,
     "metadata": {},
     "output_type": "execute_result"
    }
   ],
   "source": [
    "product_table.rename('Cluster',inplace=True)"
   ]
  },
  {
   "cell_type": "code",
   "execution_count": 47,
   "metadata": {},
   "outputs": [
    {
     "data": {
      "text/plain": [
       "first  second\n",
       "CLA    CLA0      1\n",
       "       CLA1      3\n",
       "CLB    CLB0      0\n",
       "       CLB1      1\n",
       "       CLB2      2\n",
       "       CLB3      4\n",
       "       CLB4      2\n",
       "CLC    CLC0      1\n",
       "       CLC1      2\n",
       "CLD    CLD0      0\n",
       "       CLD1      4\n",
       "       CLD2      2\n",
       "       CLD3      3\n",
       "CLE    CLE0      3\n",
       "Name: Cluster, dtype: int64"
      ]
     },
     "execution_count": 47,
     "metadata": {},
     "output_type": "execute_result"
    }
   ],
   "source": [
    "product_table"
   ]
  },
  {
   "cell_type": "markdown",
   "metadata": {},
   "source": [
    "#### Now building the Sales table"
   ]
  },
  {
   "cell_type": "code",
   "execution_count": 55,
   "metadata": {},
   "outputs": [],
   "source": [
    "products_list=product_table.index.levels[1].values"
   ]
  },
  {
   "cell_type": "code",
   "execution_count": 56,
   "metadata": {},
   "outputs": [],
   "source": [
    "# This sets the frequencies in days for each product which will be used for the dates generator\n",
    "products_frequencies=random_state.randint(1,365.25//2,len(products_list))"
   ]
  },
  {
   "cell_type": "code",
   "execution_count": 57,
   "metadata": {},
   "outputs": [
    {
     "data": {
      "text/plain": [
       "array([141,  75,  74, 147, 114,  91,  69, 161,  44, 104, 171, 103,  27,\n",
       "        89])"
      ]
     },
     "execution_count": 57,
     "metadata": {},
     "output_type": "execute_result"
    }
   ],
   "source": [
    "products_frequencies"
   ]
  },
  {
   "cell_type": "code",
   "execution_count": 65,
   "metadata": {},
   "outputs": [],
   "source": [
    "start_date='1/1/2018'\n",
    "end_date='26/07/2019'"
   ]
  },
  {
   "cell_type": "code",
   "execution_count": 89,
   "metadata": {},
   "outputs": [],
   "source": [
    "products_dates_list=[pd.date_range(start=start_date,\n",
    "             end=end_date,\n",
    "              freq=str(freq)+'D') for freq in products_frequencies]"
   ]
  },
  {
   "cell_type": "code",
   "execution_count": 107,
   "metadata": {},
   "outputs": [
    {
     "data": {
      "text/plain": [
       "[DatetimeIndex(['2018-01-01', '2018-05-22', '2018-10-10', '2019-02-28',\n",
       "                '2019-07-19'],\n",
       "               dtype='datetime64[ns]', freq='141D'),\n",
       " DatetimeIndex(['2018-01-01', '2018-03-17', '2018-05-31', '2018-08-14',\n",
       "                '2018-10-28', '2019-01-11', '2019-03-27', '2019-06-10'],\n",
       "               dtype='datetime64[ns]', freq='75D')]"
      ]
     },
     "execution_count": 107,
     "metadata": {},
     "output_type": "execute_result"
    }
   ],
   "source": [
    "products_dates_list[:2]"
   ]
  },
  {
   "cell_type": "code",
   "execution_count": 91,
   "metadata": {},
   "outputs": [],
   "source": [
    "quantities_list=random_state.randint(1000,10000,len(products_list))"
   ]
  },
  {
   "cell_type": "code",
   "execution_count": 93,
   "metadata": {},
   "outputs": [
    {
     "data": {
      "text/plain": [
       "array([8865, 2496, 4588, 5399, 1130, 8850, 5854, 9909, 2320, 9895, 7857,\n",
       "       9631, 3851, 5966])"
      ]
     },
     "execution_count": 93,
     "metadata": {},
     "output_type": "execute_result"
    }
   ],
   "source": [
    "quantities_list"
   ]
  },
  {
   "cell_type": "code",
   "execution_count": 163,
   "metadata": {},
   "outputs": [],
   "source": [
    "exact_sales_df=pd.DataFrame([(prod,date.ctime(),quant) for prod,quant,dates_list in zip(products_list,quantities_list,products_dates_list) \n",
    "              for date in dates_list],\n",
    "            columns=['product_code',\n",
    "                     'date',\n",
    "                    'quantity'])"
   ]
  },
  {
   "cell_type": "code",
   "execution_count": 164,
   "metadata": {},
   "outputs": [],
   "source": [
    "exact_sales_df['date']=pd.to_datetime(exact_sales_df['date'])"
   ]
  },
  {
   "cell_type": "code",
   "execution_count": 165,
   "metadata": {},
   "outputs": [
    {
     "data": {
      "text/html": [
       "<div>\n",
       "<style scoped>\n",
       "    .dataframe tbody tr th:only-of-type {\n",
       "        vertical-align: middle;\n",
       "    }\n",
       "\n",
       "    .dataframe tbody tr th {\n",
       "        vertical-align: top;\n",
       "    }\n",
       "\n",
       "    .dataframe thead th {\n",
       "        text-align: right;\n",
       "    }\n",
       "</style>\n",
       "<table border=\"1\" class=\"dataframe\">\n",
       "  <thead>\n",
       "    <tr style=\"text-align: right;\">\n",
       "      <th></th>\n",
       "      <th>product_code</th>\n",
       "      <th>date</th>\n",
       "      <th>quantity</th>\n",
       "    </tr>\n",
       "  </thead>\n",
       "  <tbody>\n",
       "    <tr>\n",
       "      <th>0</th>\n",
       "      <td>CLA0</td>\n",
       "      <td>2018-01-01</td>\n",
       "      <td>8865</td>\n",
       "    </tr>\n",
       "    <tr>\n",
       "      <th>1</th>\n",
       "      <td>CLA0</td>\n",
       "      <td>2018-05-22</td>\n",
       "      <td>8865</td>\n",
       "    </tr>\n",
       "    <tr>\n",
       "      <th>2</th>\n",
       "      <td>CLA0</td>\n",
       "      <td>2018-10-10</td>\n",
       "      <td>8865</td>\n",
       "    </tr>\n",
       "    <tr>\n",
       "      <th>3</th>\n",
       "      <td>CLA0</td>\n",
       "      <td>2019-02-28</td>\n",
       "      <td>8865</td>\n",
       "    </tr>\n",
       "    <tr>\n",
       "      <th>4</th>\n",
       "      <td>CLA0</td>\n",
       "      <td>2019-07-19</td>\n",
       "      <td>8865</td>\n",
       "    </tr>\n",
       "  </tbody>\n",
       "</table>\n",
       "</div>"
      ],
      "text/plain": [
       "  product_code       date  quantity\n",
       "0         CLA0 2018-01-01      8865\n",
       "1         CLA0 2018-05-22      8865\n",
       "2         CLA0 2018-10-10      8865\n",
       "3         CLA0 2019-02-28      8865\n",
       "4         CLA0 2019-07-19      8865"
      ]
     },
     "execution_count": 165,
     "metadata": {},
     "output_type": "execute_result"
    }
   ],
   "source": [
    "exact_sales_df.head()"
   ]
  },
  {
   "cell_type": "code",
   "execution_count": 166,
   "metadata": {},
   "outputs": [],
   "source": [
    "days_noise,quantities_noise=10,0.1"
   ]
  },
  {
   "cell_type": "code",
   "execution_count": 167,
   "metadata": {},
   "outputs": [],
   "source": [
    "sales_df=exact_sales_df.copy()"
   ]
  },
  {
   "cell_type": "code",
   "execution_count": 168,
   "metadata": {},
   "outputs": [],
   "source": [
    "sales_df['random_date_delta']=np.array([pd.to_timedelta(str(i)+'D') \n",
    "                                         for i in random_state.randint(-days_noise,\n",
    "                                                                       days_noise,sales_df.shape[0])])"
   ]
  },
  {
   "cell_type": "code",
   "execution_count": 169,
   "metadata": {},
   "outputs": [
    {
     "data": {
      "text/html": [
       "<div>\n",
       "<style scoped>\n",
       "    .dataframe tbody tr th:only-of-type {\n",
       "        vertical-align: middle;\n",
       "    }\n",
       "\n",
       "    .dataframe tbody tr th {\n",
       "        vertical-align: top;\n",
       "    }\n",
       "\n",
       "    .dataframe thead th {\n",
       "        text-align: right;\n",
       "    }\n",
       "</style>\n",
       "<table border=\"1\" class=\"dataframe\">\n",
       "  <thead>\n",
       "    <tr style=\"text-align: right;\">\n",
       "      <th></th>\n",
       "      <th>product_code</th>\n",
       "      <th>date</th>\n",
       "      <th>quantity</th>\n",
       "      <th>random_date_delta</th>\n",
       "    </tr>\n",
       "  </thead>\n",
       "  <tbody>\n",
       "    <tr>\n",
       "      <th>0</th>\n",
       "      <td>CLA0</td>\n",
       "      <td>2018-01-01</td>\n",
       "      <td>8865</td>\n",
       "      <td>6 days</td>\n",
       "    </tr>\n",
       "    <tr>\n",
       "      <th>1</th>\n",
       "      <td>CLA0</td>\n",
       "      <td>2018-05-22</td>\n",
       "      <td>8865</td>\n",
       "      <td>-10 days</td>\n",
       "    </tr>\n",
       "    <tr>\n",
       "      <th>2</th>\n",
       "      <td>CLA0</td>\n",
       "      <td>2018-10-10</td>\n",
       "      <td>8865</td>\n",
       "      <td>6 days</td>\n",
       "    </tr>\n",
       "    <tr>\n",
       "      <th>3</th>\n",
       "      <td>CLA0</td>\n",
       "      <td>2019-02-28</td>\n",
       "      <td>8865</td>\n",
       "      <td>7 days</td>\n",
       "    </tr>\n",
       "    <tr>\n",
       "      <th>4</th>\n",
       "      <td>CLA0</td>\n",
       "      <td>2019-07-19</td>\n",
       "      <td>8865</td>\n",
       "      <td>-10 days</td>\n",
       "    </tr>\n",
       "  </tbody>\n",
       "</table>\n",
       "</div>"
      ],
      "text/plain": [
       "  product_code       date  quantity random_date_delta\n",
       "0         CLA0 2018-01-01      8865            6 days\n",
       "1         CLA0 2018-05-22      8865          -10 days\n",
       "2         CLA0 2018-10-10      8865            6 days\n",
       "3         CLA0 2019-02-28      8865            7 days\n",
       "4         CLA0 2019-07-19      8865          -10 days"
      ]
     },
     "execution_count": 169,
     "metadata": {},
     "output_type": "execute_result"
    }
   ],
   "source": [
    "sales_df.head()"
   ]
  },
  {
   "cell_type": "code",
   "execution_count": 170,
   "metadata": {},
   "outputs": [],
   "source": [
    "sales_df['noisy_date']=sales_df['date']+sales_df['random_date_delta']"
   ]
  },
  {
   "cell_type": "code",
   "execution_count": 171,
   "metadata": {},
   "outputs": [
    {
     "data": {
      "text/html": [
       "<div>\n",
       "<style scoped>\n",
       "    .dataframe tbody tr th:only-of-type {\n",
       "        vertical-align: middle;\n",
       "    }\n",
       "\n",
       "    .dataframe tbody tr th {\n",
       "        vertical-align: top;\n",
       "    }\n",
       "\n",
       "    .dataframe thead th {\n",
       "        text-align: right;\n",
       "    }\n",
       "</style>\n",
       "<table border=\"1\" class=\"dataframe\">\n",
       "  <thead>\n",
       "    <tr style=\"text-align: right;\">\n",
       "      <th></th>\n",
       "      <th>product_code</th>\n",
       "      <th>date</th>\n",
       "      <th>quantity</th>\n",
       "      <th>random_date_delta</th>\n",
       "      <th>noisy_date</th>\n",
       "    </tr>\n",
       "  </thead>\n",
       "  <tbody>\n",
       "    <tr>\n",
       "      <th>0</th>\n",
       "      <td>CLA0</td>\n",
       "      <td>2018-01-01</td>\n",
       "      <td>8865</td>\n",
       "      <td>6 days</td>\n",
       "      <td>2018-01-07</td>\n",
       "    </tr>\n",
       "    <tr>\n",
       "      <th>1</th>\n",
       "      <td>CLA0</td>\n",
       "      <td>2018-05-22</td>\n",
       "      <td>8865</td>\n",
       "      <td>-10 days</td>\n",
       "      <td>2018-05-12</td>\n",
       "    </tr>\n",
       "    <tr>\n",
       "      <th>2</th>\n",
       "      <td>CLA0</td>\n",
       "      <td>2018-10-10</td>\n",
       "      <td>8865</td>\n",
       "      <td>6 days</td>\n",
       "      <td>2018-10-16</td>\n",
       "    </tr>\n",
       "    <tr>\n",
       "      <th>3</th>\n",
       "      <td>CLA0</td>\n",
       "      <td>2019-02-28</td>\n",
       "      <td>8865</td>\n",
       "      <td>7 days</td>\n",
       "      <td>2019-03-07</td>\n",
       "    </tr>\n",
       "    <tr>\n",
       "      <th>4</th>\n",
       "      <td>CLA0</td>\n",
       "      <td>2019-07-19</td>\n",
       "      <td>8865</td>\n",
       "      <td>-10 days</td>\n",
       "      <td>2019-07-09</td>\n",
       "    </tr>\n",
       "  </tbody>\n",
       "</table>\n",
       "</div>"
      ],
      "text/plain": [
       "  product_code       date  quantity random_date_delta noisy_date\n",
       "0         CLA0 2018-01-01      8865            6 days 2018-01-07\n",
       "1         CLA0 2018-05-22      8865          -10 days 2018-05-12\n",
       "2         CLA0 2018-10-10      8865            6 days 2018-10-16\n",
       "3         CLA0 2019-02-28      8865            7 days 2019-03-07\n",
       "4         CLA0 2019-07-19      8865          -10 days 2019-07-09"
      ]
     },
     "execution_count": 171,
     "metadata": {},
     "output_type": "execute_result"
    }
   ],
   "source": [
    "sales_df.head()"
   ]
  },
  {
   "cell_type": "code",
   "execution_count": 172,
   "metadata": {},
   "outputs": [],
   "source": [
    "sales_df['random_qty_delta']=sales_df['quantity']*random_state.uniform(-quantities_noise,quantities_noise,\n",
    "                                                                                   sales_df.shape[0])"
   ]
  },
  {
   "cell_type": "code",
   "execution_count": 173,
   "metadata": {},
   "outputs": [
    {
     "data": {
      "text/html": [
       "<div>\n",
       "<style scoped>\n",
       "    .dataframe tbody tr th:only-of-type {\n",
       "        vertical-align: middle;\n",
       "    }\n",
       "\n",
       "    .dataframe tbody tr th {\n",
       "        vertical-align: top;\n",
       "    }\n",
       "\n",
       "    .dataframe thead th {\n",
       "        text-align: right;\n",
       "    }\n",
       "</style>\n",
       "<table border=\"1\" class=\"dataframe\">\n",
       "  <thead>\n",
       "    <tr style=\"text-align: right;\">\n",
       "      <th></th>\n",
       "      <th>product_code</th>\n",
       "      <th>date</th>\n",
       "      <th>quantity</th>\n",
       "      <th>random_date_delta</th>\n",
       "      <th>noisy_date</th>\n",
       "      <th>random_qty_delta</th>\n",
       "    </tr>\n",
       "  </thead>\n",
       "  <tbody>\n",
       "    <tr>\n",
       "      <th>0</th>\n",
       "      <td>CLA0</td>\n",
       "      <td>2018-01-01</td>\n",
       "      <td>8865</td>\n",
       "      <td>6 days</td>\n",
       "      <td>2018-01-07</td>\n",
       "      <td>-748.954989</td>\n",
       "    </tr>\n",
       "    <tr>\n",
       "      <th>1</th>\n",
       "      <td>CLA0</td>\n",
       "      <td>2018-05-22</td>\n",
       "      <td>8865</td>\n",
       "      <td>-10 days</td>\n",
       "      <td>2018-05-12</td>\n",
       "      <td>-216.395953</td>\n",
       "    </tr>\n",
       "    <tr>\n",
       "      <th>2</th>\n",
       "      <td>CLA0</td>\n",
       "      <td>2018-10-10</td>\n",
       "      <td>8865</td>\n",
       "      <td>6 days</td>\n",
       "      <td>2018-10-16</td>\n",
       "      <td>-747.573181</td>\n",
       "    </tr>\n",
       "    <tr>\n",
       "      <th>3</th>\n",
       "      <td>CLA0</td>\n",
       "      <td>2019-02-28</td>\n",
       "      <td>8865</td>\n",
       "      <td>7 days</td>\n",
       "      <td>2019-03-07</td>\n",
       "      <td>244.582150</td>\n",
       "    </tr>\n",
       "    <tr>\n",
       "      <th>4</th>\n",
       "      <td>CLA0</td>\n",
       "      <td>2019-07-19</td>\n",
       "      <td>8865</td>\n",
       "      <td>-10 days</td>\n",
       "      <td>2019-07-09</td>\n",
       "      <td>-269.123981</td>\n",
       "    </tr>\n",
       "  </tbody>\n",
       "</table>\n",
       "</div>"
      ],
      "text/plain": [
       "  product_code       date  quantity random_date_delta noisy_date  \\\n",
       "0         CLA0 2018-01-01      8865            6 days 2018-01-07   \n",
       "1         CLA0 2018-05-22      8865          -10 days 2018-05-12   \n",
       "2         CLA0 2018-10-10      8865            6 days 2018-10-16   \n",
       "3         CLA0 2019-02-28      8865            7 days 2019-03-07   \n",
       "4         CLA0 2019-07-19      8865          -10 days 2019-07-09   \n",
       "\n",
       "   random_qty_delta  \n",
       "0       -748.954989  \n",
       "1       -216.395953  \n",
       "2       -747.573181  \n",
       "3        244.582150  \n",
       "4       -269.123981  "
      ]
     },
     "execution_count": 173,
     "metadata": {},
     "output_type": "execute_result"
    }
   ],
   "source": [
    "sales_df.head()"
   ]
  },
  {
   "cell_type": "code",
   "execution_count": 174,
   "metadata": {},
   "outputs": [],
   "source": [
    "sales_df['noisy_quantity']=sales_df['quantity']+sales_df['random_qty_delta']"
   ]
  },
  {
   "cell_type": "code",
   "execution_count": 175,
   "metadata": {},
   "outputs": [
    {
     "data": {
      "text/html": [
       "<div>\n",
       "<style scoped>\n",
       "    .dataframe tbody tr th:only-of-type {\n",
       "        vertical-align: middle;\n",
       "    }\n",
       "\n",
       "    .dataframe tbody tr th {\n",
       "        vertical-align: top;\n",
       "    }\n",
       "\n",
       "    .dataframe thead th {\n",
       "        text-align: right;\n",
       "    }\n",
       "</style>\n",
       "<table border=\"1\" class=\"dataframe\">\n",
       "  <thead>\n",
       "    <tr style=\"text-align: right;\">\n",
       "      <th></th>\n",
       "      <th>product_code</th>\n",
       "      <th>date</th>\n",
       "      <th>quantity</th>\n",
       "      <th>random_date_delta</th>\n",
       "      <th>noisy_date</th>\n",
       "      <th>random_qty_delta</th>\n",
       "      <th>noisy_quantity</th>\n",
       "    </tr>\n",
       "  </thead>\n",
       "  <tbody>\n",
       "    <tr>\n",
       "      <th>0</th>\n",
       "      <td>CLA0</td>\n",
       "      <td>2018-01-01</td>\n",
       "      <td>8865</td>\n",
       "      <td>6 days</td>\n",
       "      <td>2018-01-07</td>\n",
       "      <td>-748.954989</td>\n",
       "      <td>8116.045011</td>\n",
       "    </tr>\n",
       "    <tr>\n",
       "      <th>1</th>\n",
       "      <td>CLA0</td>\n",
       "      <td>2018-05-22</td>\n",
       "      <td>8865</td>\n",
       "      <td>-10 days</td>\n",
       "      <td>2018-05-12</td>\n",
       "      <td>-216.395953</td>\n",
       "      <td>8648.604047</td>\n",
       "    </tr>\n",
       "    <tr>\n",
       "      <th>2</th>\n",
       "      <td>CLA0</td>\n",
       "      <td>2018-10-10</td>\n",
       "      <td>8865</td>\n",
       "      <td>6 days</td>\n",
       "      <td>2018-10-16</td>\n",
       "      <td>-747.573181</td>\n",
       "      <td>8117.426819</td>\n",
       "    </tr>\n",
       "    <tr>\n",
       "      <th>3</th>\n",
       "      <td>CLA0</td>\n",
       "      <td>2019-02-28</td>\n",
       "      <td>8865</td>\n",
       "      <td>7 days</td>\n",
       "      <td>2019-03-07</td>\n",
       "      <td>244.582150</td>\n",
       "      <td>9109.582150</td>\n",
       "    </tr>\n",
       "    <tr>\n",
       "      <th>4</th>\n",
       "      <td>CLA0</td>\n",
       "      <td>2019-07-19</td>\n",
       "      <td>8865</td>\n",
       "      <td>-10 days</td>\n",
       "      <td>2019-07-09</td>\n",
       "      <td>-269.123981</td>\n",
       "      <td>8595.876019</td>\n",
       "    </tr>\n",
       "  </tbody>\n",
       "</table>\n",
       "</div>"
      ],
      "text/plain": [
       "  product_code       date  quantity random_date_delta noisy_date  \\\n",
       "0         CLA0 2018-01-01      8865            6 days 2018-01-07   \n",
       "1         CLA0 2018-05-22      8865          -10 days 2018-05-12   \n",
       "2         CLA0 2018-10-10      8865            6 days 2018-10-16   \n",
       "3         CLA0 2019-02-28      8865            7 days 2019-03-07   \n",
       "4         CLA0 2019-07-19      8865          -10 days 2019-07-09   \n",
       "\n",
       "   random_qty_delta  noisy_quantity  \n",
       "0       -748.954989     8116.045011  \n",
       "1       -216.395953     8648.604047  \n",
       "2       -747.573181     8117.426819  \n",
       "3        244.582150     9109.582150  \n",
       "4       -269.123981     8595.876019  "
      ]
     },
     "execution_count": 175,
     "metadata": {},
     "output_type": "execute_result"
    }
   ],
   "source": [
    "sales_df.head()"
   ]
  },
  {
   "cell_type": "code",
   "execution_count": 176,
   "metadata": {},
   "outputs": [],
   "source": [
    "noisy_sales_df=sales_df[['product_code',\n",
    "                        'noisy_date',\n",
    "                        'noisy_quantity']]"
   ]
  },
  {
   "cell_type": "code",
   "execution_count": 178,
   "metadata": {},
   "outputs": [
    {
     "data": {
      "text/html": [
       "<div>\n",
       "<style scoped>\n",
       "    .dataframe tbody tr th:only-of-type {\n",
       "        vertical-align: middle;\n",
       "    }\n",
       "\n",
       "    .dataframe tbody tr th {\n",
       "        vertical-align: top;\n",
       "    }\n",
       "\n",
       "    .dataframe thead th {\n",
       "        text-align: right;\n",
       "    }\n",
       "</style>\n",
       "<table border=\"1\" class=\"dataframe\">\n",
       "  <thead>\n",
       "    <tr style=\"text-align: right;\">\n",
       "      <th></th>\n",
       "      <th>product_code</th>\n",
       "      <th>noisy_date</th>\n",
       "      <th>noisy_quantity</th>\n",
       "    </tr>\n",
       "  </thead>\n",
       "  <tbody>\n",
       "    <tr>\n",
       "      <th>0</th>\n",
       "      <td>CLA0</td>\n",
       "      <td>2018-01-07</td>\n",
       "      <td>8116.045011</td>\n",
       "    </tr>\n",
       "    <tr>\n",
       "      <th>1</th>\n",
       "      <td>CLA0</td>\n",
       "      <td>2018-05-12</td>\n",
       "      <td>8648.604047</td>\n",
       "    </tr>\n",
       "    <tr>\n",
       "      <th>2</th>\n",
       "      <td>CLA0</td>\n",
       "      <td>2018-10-16</td>\n",
       "      <td>8117.426819</td>\n",
       "    </tr>\n",
       "    <tr>\n",
       "      <th>3</th>\n",
       "      <td>CLA0</td>\n",
       "      <td>2019-03-07</td>\n",
       "      <td>9109.582150</td>\n",
       "    </tr>\n",
       "    <tr>\n",
       "      <th>4</th>\n",
       "      <td>CLA0</td>\n",
       "      <td>2019-07-09</td>\n",
       "      <td>8595.876019</td>\n",
       "    </tr>\n",
       "  </tbody>\n",
       "</table>\n",
       "</div>"
      ],
      "text/plain": [
       "  product_code noisy_date  noisy_quantity\n",
       "0         CLA0 2018-01-07     8116.045011\n",
       "1         CLA0 2018-05-12     8648.604047\n",
       "2         CLA0 2018-10-16     8117.426819\n",
       "3         CLA0 2019-03-07     9109.582150\n",
       "4         CLA0 2019-07-09     8595.876019"
      ]
     },
     "execution_count": 178,
     "metadata": {},
     "output_type": "execute_result"
    }
   ],
   "source": [
    "noisy_sales_df.head()"
   ]
  },
  {
   "cell_type": "code",
   "execution_count": 179,
   "metadata": {},
   "outputs": [
    {
     "data": {
      "text/plain": [
       "(109, 3)"
      ]
     },
     "execution_count": 179,
     "metadata": {},
     "output_type": "execute_result"
    }
   ],
   "source": [
    "noisy_sales_df.shape"
   ]
  },
  {
   "cell_type": "code",
   "execution_count": 182,
   "metadata": {},
   "outputs": [],
   "source": [
    "noisy_sales_df.to_csv('../data/raw/sales_table.csv',\n",
    "                     index=False)"
   ]
  },
  {
   "cell_type": "code",
   "execution_count": 192,
   "metadata": {},
   "outputs": [],
   "source": [
    "products_clusters=pd.DataFrame(product_table.droplevel(0))"
   ]
  },
  {
   "cell_type": "code",
   "execution_count": 201,
   "metadata": {},
   "outputs": [],
   "source": [
    "products_clusters.rename_axis('product_code',axis=0,inplace=True)"
   ]
  },
  {
   "cell_type": "code",
   "execution_count": 202,
   "metadata": {},
   "outputs": [
    {
     "data": {
      "text/html": [
       "<div>\n",
       "<style scoped>\n",
       "    .dataframe tbody tr th:only-of-type {\n",
       "        vertical-align: middle;\n",
       "    }\n",
       "\n",
       "    .dataframe tbody tr th {\n",
       "        vertical-align: top;\n",
       "    }\n",
       "\n",
       "    .dataframe thead th {\n",
       "        text-align: right;\n",
       "    }\n",
       "</style>\n",
       "<table border=\"1\" class=\"dataframe\">\n",
       "  <thead>\n",
       "    <tr style=\"text-align: right;\">\n",
       "      <th></th>\n",
       "      <th>Cluster</th>\n",
       "    </tr>\n",
       "    <tr>\n",
       "      <th>product_code</th>\n",
       "      <th></th>\n",
       "    </tr>\n",
       "  </thead>\n",
       "  <tbody>\n",
       "    <tr>\n",
       "      <th>CLA0</th>\n",
       "      <td>1</td>\n",
       "    </tr>\n",
       "    <tr>\n",
       "      <th>CLA1</th>\n",
       "      <td>3</td>\n",
       "    </tr>\n",
       "    <tr>\n",
       "      <th>CLB0</th>\n",
       "      <td>0</td>\n",
       "    </tr>\n",
       "    <tr>\n",
       "      <th>CLB1</th>\n",
       "      <td>1</td>\n",
       "    </tr>\n",
       "    <tr>\n",
       "      <th>CLB2</th>\n",
       "      <td>2</td>\n",
       "    </tr>\n",
       "    <tr>\n",
       "      <th>CLB3</th>\n",
       "      <td>4</td>\n",
       "    </tr>\n",
       "    <tr>\n",
       "      <th>CLB4</th>\n",
       "      <td>2</td>\n",
       "    </tr>\n",
       "    <tr>\n",
       "      <th>CLC0</th>\n",
       "      <td>1</td>\n",
       "    </tr>\n",
       "    <tr>\n",
       "      <th>CLC1</th>\n",
       "      <td>2</td>\n",
       "    </tr>\n",
       "    <tr>\n",
       "      <th>CLD0</th>\n",
       "      <td>0</td>\n",
       "    </tr>\n",
       "    <tr>\n",
       "      <th>CLD1</th>\n",
       "      <td>4</td>\n",
       "    </tr>\n",
       "    <tr>\n",
       "      <th>CLD2</th>\n",
       "      <td>2</td>\n",
       "    </tr>\n",
       "    <tr>\n",
       "      <th>CLD3</th>\n",
       "      <td>3</td>\n",
       "    </tr>\n",
       "    <tr>\n",
       "      <th>CLE0</th>\n",
       "      <td>3</td>\n",
       "    </tr>\n",
       "  </tbody>\n",
       "</table>\n",
       "</div>"
      ],
      "text/plain": [
       "              Cluster\n",
       "product_code         \n",
       "CLA0                1\n",
       "CLA1                3\n",
       "CLB0                0\n",
       "CLB1                1\n",
       "CLB2                2\n",
       "CLB3                4\n",
       "CLB4                2\n",
       "CLC0                1\n",
       "CLC1                2\n",
       "CLD0                0\n",
       "CLD1                4\n",
       "CLD2                2\n",
       "CLD3                3\n",
       "CLE0                3"
      ]
     },
     "execution_count": 202,
     "metadata": {},
     "output_type": "execute_result"
    }
   ],
   "source": [
    "products_clusters"
   ]
  },
  {
   "cell_type": "code",
   "execution_count": 203,
   "metadata": {},
   "outputs": [],
   "source": [
    "sales_cluster_df=noisy_sales_df.join(products_clusters,how='outer',on='product_code')"
   ]
  },
  {
   "cell_type": "code",
   "execution_count": 205,
   "metadata": {},
   "outputs": [
    {
     "data": {
      "text/plain": [
       "(109, 4)"
      ]
     },
     "execution_count": 205,
     "metadata": {},
     "output_type": "execute_result"
    }
   ],
   "source": [
    "sales_cluster_df.shape"
   ]
  },
  {
   "cell_type": "code",
   "execution_count": 206,
   "metadata": {},
   "outputs": [
    {
     "data": {
      "text/html": [
       "<div>\n",
       "<style scoped>\n",
       "    .dataframe tbody tr th:only-of-type {\n",
       "        vertical-align: middle;\n",
       "    }\n",
       "\n",
       "    .dataframe tbody tr th {\n",
       "        vertical-align: top;\n",
       "    }\n",
       "\n",
       "    .dataframe thead th {\n",
       "        text-align: right;\n",
       "    }\n",
       "</style>\n",
       "<table border=\"1\" class=\"dataframe\">\n",
       "  <thead>\n",
       "    <tr style=\"text-align: right;\">\n",
       "      <th></th>\n",
       "      <th>product_code</th>\n",
       "      <th>noisy_date</th>\n",
       "      <th>noisy_quantity</th>\n",
       "      <th>Cluster</th>\n",
       "    </tr>\n",
       "  </thead>\n",
       "  <tbody>\n",
       "    <tr>\n",
       "      <th>0</th>\n",
       "      <td>CLA0</td>\n",
       "      <td>2018-01-07</td>\n",
       "      <td>8116.045011</td>\n",
       "      <td>1</td>\n",
       "    </tr>\n",
       "    <tr>\n",
       "      <th>1</th>\n",
       "      <td>CLA0</td>\n",
       "      <td>2018-05-12</td>\n",
       "      <td>8648.604047</td>\n",
       "      <td>1</td>\n",
       "    </tr>\n",
       "    <tr>\n",
       "      <th>2</th>\n",
       "      <td>CLA0</td>\n",
       "      <td>2018-10-16</td>\n",
       "      <td>8117.426819</td>\n",
       "      <td>1</td>\n",
       "    </tr>\n",
       "    <tr>\n",
       "      <th>3</th>\n",
       "      <td>CLA0</td>\n",
       "      <td>2019-03-07</td>\n",
       "      <td>9109.582150</td>\n",
       "      <td>1</td>\n",
       "    </tr>\n",
       "    <tr>\n",
       "      <th>4</th>\n",
       "      <td>CLA0</td>\n",
       "      <td>2019-07-09</td>\n",
       "      <td>8595.876019</td>\n",
       "      <td>1</td>\n",
       "    </tr>\n",
       "  </tbody>\n",
       "</table>\n",
       "</div>"
      ],
      "text/plain": [
       "  product_code noisy_date  noisy_quantity  Cluster\n",
       "0         CLA0 2018-01-07     8116.045011        1\n",
       "1         CLA0 2018-05-12     8648.604047        1\n",
       "2         CLA0 2018-10-16     8117.426819        1\n",
       "3         CLA0 2019-03-07     9109.582150        1\n",
       "4         CLA0 2019-07-09     8595.876019        1"
      ]
     },
     "execution_count": 206,
     "metadata": {},
     "output_type": "execute_result"
    }
   ],
   "source": [
    "sales_cluster_df.head()"
   ]
  },
  {
   "cell_type": "code",
   "execution_count": 207,
   "metadata": {},
   "outputs": [
    {
     "data": {
      "text/plain": [
       "3    37\n",
       "2    34\n",
       "0    14\n",
       "1    13\n",
       "4    11\n",
       "Name: Cluster, dtype: int64"
      ]
     },
     "execution_count": 207,
     "metadata": {},
     "output_type": "execute_result"
    }
   ],
   "source": [
    "sales_cluster_df.Cluster.value_counts()"
   ]
  },
  {
   "cell_type": "code",
   "execution_count": null,
   "metadata": {},
   "outputs": [],
   "source": []
  }
 ],
 "metadata": {
  "kernelspec": {
   "display_name": "fastai",
   "language": "python",
   "name": "fastai"
  },
  "language_info": {
   "codemirror_mode": {
    "name": "ipython",
    "version": 3
   },
   "file_extension": ".py",
   "mimetype": "text/x-python",
   "name": "python",
   "nbconvert_exporter": "python",
   "pygments_lexer": "ipython3",
   "version": "3.7.3"
  }
 },
 "nbformat": 4,
 "nbformat_minor": 2
}
