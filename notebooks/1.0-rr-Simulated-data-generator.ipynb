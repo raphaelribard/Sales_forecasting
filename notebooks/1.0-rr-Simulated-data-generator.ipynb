{
 "cells": [
  {
   "cell_type": "markdown",
   "metadata": {},
   "source": [
    "# This notebook will generate the synthetic data required as an input to our Facebook/Prophet model\n",
    "- Some noise will be added to the data to reflect real data!\n",
    "- This notebook output will be saved in the data folder (RAW)"
   ]
  },
  {
   "cell_type": "markdown",
   "metadata": {},
   "source": [
    "## Two tables will be generated:\n",
    "- The first table will attach every product to a cluster of products (5 clusters A, B, C, D and E will be used):\n",
    "\n",
    "| Product_code  |  Associated cluster |\n",
    "|---|---|\n",
    "| CLA01  |  A  |\n",
    "| CLA02  |   E  |\n",
    "| CLB01  |   A  |\n",
    "\n",
    "The product code 3 first characters define the client : CLA : Client A , CLB : Client B etc.\n",
    "\n",
    "- The second table is the actual Sales history table:\n",
    "\n",
    "| Product_code  | Date  |  Quantity |\n",
    "|---|---|---|\n",
    "|  CLB01 | 25/07/2019  | 1,000  |\n",
    "|  CLB01 | 19/07/2019  |  1,500 |\n",
    "|   CLA02 | 23/07/2019  |  10,000 |"
   ]
  },
  {
   "cell_type": "code",
   "execution_count": null,
   "metadata": {},
   "outputs": [],
   "source": []
  }
 ],
 "metadata": {
  "kernelspec": {
   "display_name": "fastai",
   "language": "python",
   "name": "fastai"
  },
  "language_info": {
   "codemirror_mode": {
    "name": "ipython",
    "version": 3
   },
   "file_extension": ".py",
   "mimetype": "text/x-python",
   "name": "python",
   "nbconvert_exporter": "python",
   "pygments_lexer": "ipython3",
   "version": "3.7.3"
  }
 },
 "nbformat": 4,
 "nbformat_minor": 2
}
