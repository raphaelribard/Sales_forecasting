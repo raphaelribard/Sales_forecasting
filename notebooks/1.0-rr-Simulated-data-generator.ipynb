{
 "cells": [
  {
   "cell_type": "markdown",
   "metadata": {},
   "source": [
    "# This notebook will generate the synthetic data required as an input to our Facebook/Prophet model\n",
    "- Some noise will be added to the data to reflect real data!\n",
    "- This notebook output will be saved in the data folder (RAW)"
   ]
  },
  {
   "cell_type": "markdown",
   "metadata": {},
   "source": [
    "## Two tables will be generated:\n",
    "- The first table will attach every product to a cluster of products (5 clusters A, B, C, D and E will be used):\n",
    "\n",
    "| Product_code  |  Associated cluster |\n",
    "|---|---|\n",
    "| CLA01  |  A  |\n",
    "| CLA02  |   E  |\n",
    "| CLB01  |   A  |\n",
    "\n",
    "The product code 3 first characters define the client : CLA : Client A , CLB : Client B etc.\n",
    "\n",
    "- The second table is the actual Sales history table:\n",
    "\n",
    "| Product_code  | Date  |  Quantity |\n",
    "|---|---|---|\n",
    "|  CLB01 | 25/07/2019  | 1,000  |\n",
    "|  CLB01 | 19/07/2019  |  1,500 |\n",
    "|   CLA02 | 23/07/2019  |  10,000 |"
   ]
  },
  {
   "cell_type": "markdown",
   "metadata": {},
   "source": [
    "### Product table generation\n",
    "\n",
    "#### 1. Import the famous pandas and numpy libraries"
   ]
  },
  {
   "cell_type": "code",
   "execution_count": 1,
   "metadata": {},
   "outputs": [],
   "source": [
    "import pandas as pd\n",
    "import numpy as np"
   ]
  },
  {
   "cell_type": "code",
   "execution_count": 2,
   "metadata": {},
   "outputs": [],
   "source": [
    "#This sets the seed to always generate the same data\n",
    "\n",
    "from numpy.random import RandomState\n",
    "random_state=RandomState(9999)"
   ]
  },
  {
   "cell_type": "code",
   "execution_count": 3,
   "metadata": {},
   "outputs": [],
   "source": [
    "#Input parameters\n",
    "\n",
    "number_of_clients=5\n",
    "min_number_of_products_per_client=1\n",
    "max_number_of_products_per_client=6\n",
    "number_of_clusters=5"
   ]
  },
  {
   "cell_type": "code",
   "execution_count": 4,
   "metadata": {},
   "outputs": [],
   "source": [
    "number_of_products_list=random_state.randint(min_number_of_products_per_client,\n",
    "                                             max_number_of_products_per_client,\n",
    "                                             number_of_clients)"
   ]
  },
  {
   "cell_type": "code",
   "execution_count": 5,
   "metadata": {},
   "outputs": [
    {
     "data": {
      "text/plain": [
       "array([2, 5, 2, 4, 1])"
      ]
     },
     "execution_count": 5,
     "metadata": {},
     "output_type": "execute_result"
    }
   ],
   "source": [
    "number_of_products_list"
   ]
  },
  {
   "cell_type": "code",
   "execution_count": 6,
   "metadata": {},
   "outputs": [],
   "source": [
    "def letter_range(start, stop=\"{\", step=1):\n",
    "    \"\"\"Yield a range of lowercase letters.\"\"\" \n",
    "    for ord_ in range(ord(start.upper()), ord(stop.upper()), step):\n",
    "        yield chr(ord_)"
   ]
  },
  {
   "cell_type": "code",
   "execution_count": 7,
   "metadata": {},
   "outputs": [],
   "source": [
    "clients_list=['CL'+ l for l in letter_range(chr(97),chr(97+number_of_clients))]"
   ]
  },
  {
   "cell_type": "code",
   "execution_count": 8,
   "metadata": {},
   "outputs": [
    {
     "data": {
      "text/plain": [
       "['CLA', 'CLB', 'CLC', 'CLD', 'CLE']"
      ]
     },
     "execution_count": 8,
     "metadata": {},
     "output_type": "execute_result"
    }
   ],
   "source": [
    "clients_list"
   ]
  },
  {
   "cell_type": "code",
   "execution_count": 9,
   "metadata": {},
   "outputs": [],
   "source": [
    "product_codes=[(client,client+str(i)) for number_of_products,client in zip(number_of_products_list,clients_list) \n",
    "               for i in range(number_of_products) ]"
   ]
  },
  {
   "cell_type": "code",
   "execution_count": 10,
   "metadata": {},
   "outputs": [
    {
     "data": {
      "text/plain": [
       "[('CLA', 'CLA0'),\n",
       " ('CLA', 'CLA1'),\n",
       " ('CLB', 'CLB0'),\n",
       " ('CLB', 'CLB1'),\n",
       " ('CLB', 'CLB2'),\n",
       " ('CLB', 'CLB3'),\n",
       " ('CLB', 'CLB4'),\n",
       " ('CLC', 'CLC0'),\n",
       " ('CLC', 'CLC1'),\n",
       " ('CLD', 'CLD0'),\n",
       " ('CLD', 'CLD1'),\n",
       " ('CLD', 'CLD2'),\n",
       " ('CLD', 'CLD3'),\n",
       " ('CLE', 'CLE0')]"
      ]
     },
     "execution_count": 10,
     "metadata": {},
     "output_type": "execute_result"
    }
   ],
   "source": [
    "product_codes"
   ]
  },
  {
   "cell_type": "code",
   "execution_count": 11,
   "metadata": {},
   "outputs": [],
   "source": [
    "index = pd.MultiIndex.from_tuples(product_codes, names=['first', 'second'])"
   ]
  },
  {
   "cell_type": "code",
   "execution_count": 12,
   "metadata": {},
   "outputs": [],
   "source": [
    "product_table=pd.Series(random_state.randint(0,number_of_clusters, len(product_codes)), index=index)"
   ]
  },
  {
   "cell_type": "code",
   "execution_count": 13,
   "metadata": {},
   "outputs": [
    {
     "data": {
      "text/plain": [
       "first  second\n",
       "CLA    CLA0      0\n",
       "       CLA1      2\n",
       "CLB    CLB0      4\n",
       "       CLB1      0\n",
       "       CLB2      1\n",
       "       CLB3      3\n",
       "       CLB4      1\n",
       "CLC    CLC0      0\n",
       "       CLC1      4\n",
       "CLD    CLD0      3\n",
       "       CLD1      4\n",
       "       CLD2      4\n",
       "       CLD3      0\n",
       "CLE    CLE0      4\n",
       "Name: Cluster, dtype: int64"
      ]
     },
     "execution_count": 13,
     "metadata": {},
     "output_type": "execute_result"
    }
   ],
   "source": [
    "product_table.rename('Cluster',inplace=True)"
   ]
  },
  {
   "cell_type": "code",
   "execution_count": 14,
   "metadata": {},
   "outputs": [
    {
     "data": {
      "text/plain": [
       "first  second\n",
       "CLA    CLA0      0\n",
       "       CLA1      2\n",
       "CLB    CLB0      4\n",
       "       CLB1      0\n",
       "       CLB2      1\n",
       "       CLB3      3\n",
       "       CLB4      1\n",
       "CLC    CLC0      0\n",
       "       CLC1      4\n",
       "CLD    CLD0      3\n",
       "       CLD1      4\n",
       "       CLD2      4\n",
       "       CLD3      0\n",
       "CLE    CLE0      4\n",
       "Name: Cluster, dtype: int64"
      ]
     },
     "execution_count": 14,
     "metadata": {},
     "output_type": "execute_result"
    }
   ],
   "source": [
    "product_table"
   ]
  },
  {
   "cell_type": "markdown",
   "metadata": {},
   "source": [
    "#### Now building the Sales table"
   ]
  },
  {
   "cell_type": "code",
   "execution_count": 15,
   "metadata": {},
   "outputs": [],
   "source": [
    "products_list=product_table.index.levels[1].values"
   ]
  },
  {
   "cell_type": "code",
   "execution_count": 16,
   "metadata": {},
   "outputs": [],
   "source": [
    "# This sets the frequencies in days for each product which will be used for the dates generator\n",
    "products_frequencies=random_state.randint(1,365.25//2,len(products_list))"
   ]
  },
  {
   "cell_type": "code",
   "execution_count": 17,
   "metadata": {},
   "outputs": [
    {
     "data": {
      "text/plain": [
       "array([ 69, 174, 143,  40,  44, 138, 148, 159,  42,   4,  90,  12, 162,\n",
       "       138])"
      ]
     },
     "execution_count": 17,
     "metadata": {},
     "output_type": "execute_result"
    }
   ],
   "source": [
    "products_frequencies"
   ]
  },
  {
   "cell_type": "code",
   "execution_count": 18,
   "metadata": {},
   "outputs": [],
   "source": [
    "start_date='1/1/2018'\n",
    "end_date='26/07/2019'"
   ]
  },
  {
   "cell_type": "code",
   "execution_count": 19,
   "metadata": {},
   "outputs": [],
   "source": [
    "products_dates_list=[pd.date_range(start=start_date,\n",
    "             end=end_date,\n",
    "              freq=str(freq)+'D') for freq in products_frequencies]"
   ]
  },
  {
   "cell_type": "code",
   "execution_count": 20,
   "metadata": {},
   "outputs": [
    {
     "data": {
      "text/plain": [
       "[DatetimeIndex(['2018-01-01', '2018-03-11', '2018-05-19', '2018-07-27',\n",
       "                '2018-10-04', '2018-12-12', '2019-02-19', '2019-04-29',\n",
       "                '2019-07-07'],\n",
       "               dtype='datetime64[ns]', freq='69D'),\n",
       " DatetimeIndex(['2018-01-01', '2018-06-24', '2018-12-15', '2019-06-07'], dtype='datetime64[ns]', freq='174D')]"
      ]
     },
     "execution_count": 20,
     "metadata": {},
     "output_type": "execute_result"
    }
   ],
   "source": [
    "products_dates_list[:2]"
   ]
  },
  {
   "cell_type": "code",
   "execution_count": 21,
   "metadata": {},
   "outputs": [],
   "source": [
    "quantities_list=random_state.randint(1000,10000,len(products_list))"
   ]
  },
  {
   "cell_type": "code",
   "execution_count": 22,
   "metadata": {},
   "outputs": [
    {
     "data": {
      "text/plain": [
       "array([5064, 4795, 1173, 5766, 3261, 5953, 3704, 6917, 6315, 5604, 4296,\n",
       "       4448, 1649, 8754])"
      ]
     },
     "execution_count": 22,
     "metadata": {},
     "output_type": "execute_result"
    }
   ],
   "source": [
    "quantities_list"
   ]
  },
  {
   "cell_type": "code",
   "execution_count": 23,
   "metadata": {},
   "outputs": [],
   "source": [
    "exact_sales_df=pd.DataFrame([(prod,date.ctime(),quant) for prod,quant,dates_list \n",
    "                             in zip(products_list,quantities_list,products_dates_list) \n",
    "              for date in dates_list],\n",
    "            columns=['product_code',\n",
    "                     'date',\n",
    "                    'quantity'])"
   ]
  },
  {
   "cell_type": "code",
   "execution_count": 24,
   "metadata": {},
   "outputs": [],
   "source": [
    "exact_sales_df['date']=pd.to_datetime(exact_sales_df['date'])"
   ]
  },
  {
   "cell_type": "code",
   "execution_count": 25,
   "metadata": {},
   "outputs": [
    {
     "data": {
      "text/html": [
       "<div>\n",
       "<style scoped>\n",
       "    .dataframe tbody tr th:only-of-type {\n",
       "        vertical-align: middle;\n",
       "    }\n",
       "\n",
       "    .dataframe tbody tr th {\n",
       "        vertical-align: top;\n",
       "    }\n",
       "\n",
       "    .dataframe thead th {\n",
       "        text-align: right;\n",
       "    }\n",
       "</style>\n",
       "<table border=\"1\" class=\"dataframe\">\n",
       "  <thead>\n",
       "    <tr style=\"text-align: right;\">\n",
       "      <th></th>\n",
       "      <th>product_code</th>\n",
       "      <th>date</th>\n",
       "      <th>quantity</th>\n",
       "    </tr>\n",
       "  </thead>\n",
       "  <tbody>\n",
       "    <tr>\n",
       "      <th>0</th>\n",
       "      <td>CLA0</td>\n",
       "      <td>2018-01-01</td>\n",
       "      <td>5064</td>\n",
       "    </tr>\n",
       "    <tr>\n",
       "      <th>1</th>\n",
       "      <td>CLA0</td>\n",
       "      <td>2018-03-11</td>\n",
       "      <td>5064</td>\n",
       "    </tr>\n",
       "    <tr>\n",
       "      <th>2</th>\n",
       "      <td>CLA0</td>\n",
       "      <td>2018-05-19</td>\n",
       "      <td>5064</td>\n",
       "    </tr>\n",
       "    <tr>\n",
       "      <th>3</th>\n",
       "      <td>CLA0</td>\n",
       "      <td>2018-07-27</td>\n",
       "      <td>5064</td>\n",
       "    </tr>\n",
       "    <tr>\n",
       "      <th>4</th>\n",
       "      <td>CLA0</td>\n",
       "      <td>2018-10-04</td>\n",
       "      <td>5064</td>\n",
       "    </tr>\n",
       "  </tbody>\n",
       "</table>\n",
       "</div>"
      ],
      "text/plain": [
       "  product_code       date  quantity\n",
       "0         CLA0 2018-01-01      5064\n",
       "1         CLA0 2018-03-11      5064\n",
       "2         CLA0 2018-05-19      5064\n",
       "3         CLA0 2018-07-27      5064\n",
       "4         CLA0 2018-10-04      5064"
      ]
     },
     "execution_count": 25,
     "metadata": {},
     "output_type": "execute_result"
    }
   ],
   "source": [
    "exact_sales_df.head()"
   ]
  },
  {
   "cell_type": "code",
   "execution_count": 26,
   "metadata": {},
   "outputs": [],
   "source": [
    "days_noise,quantities_noise=10,0.1"
   ]
  },
  {
   "cell_type": "code",
   "execution_count": 27,
   "metadata": {},
   "outputs": [],
   "source": [
    "sales_df=exact_sales_df.copy()"
   ]
  },
  {
   "cell_type": "code",
   "execution_count": 28,
   "metadata": {},
   "outputs": [],
   "source": [
    "sales_df['random_date_delta']=np.array([pd.to_timedelta(str(i)+'D') \n",
    "                                         for i in random_state.randint(-days_noise,\n",
    "                                                                       days_noise,sales_df.shape[0])])"
   ]
  },
  {
   "cell_type": "code",
   "execution_count": 29,
   "metadata": {},
   "outputs": [
    {
     "data": {
      "text/html": [
       "<div>\n",
       "<style scoped>\n",
       "    .dataframe tbody tr th:only-of-type {\n",
       "        vertical-align: middle;\n",
       "    }\n",
       "\n",
       "    .dataframe tbody tr th {\n",
       "        vertical-align: top;\n",
       "    }\n",
       "\n",
       "    .dataframe thead th {\n",
       "        text-align: right;\n",
       "    }\n",
       "</style>\n",
       "<table border=\"1\" class=\"dataframe\">\n",
       "  <thead>\n",
       "    <tr style=\"text-align: right;\">\n",
       "      <th></th>\n",
       "      <th>product_code</th>\n",
       "      <th>date</th>\n",
       "      <th>quantity</th>\n",
       "      <th>random_date_delta</th>\n",
       "    </tr>\n",
       "  </thead>\n",
       "  <tbody>\n",
       "    <tr>\n",
       "      <th>0</th>\n",
       "      <td>CLA0</td>\n",
       "      <td>2018-01-01</td>\n",
       "      <td>5064</td>\n",
       "      <td>-4 days</td>\n",
       "    </tr>\n",
       "    <tr>\n",
       "      <th>1</th>\n",
       "      <td>CLA0</td>\n",
       "      <td>2018-03-11</td>\n",
       "      <td>5064</td>\n",
       "      <td>0 days</td>\n",
       "    </tr>\n",
       "    <tr>\n",
       "      <th>2</th>\n",
       "      <td>CLA0</td>\n",
       "      <td>2018-05-19</td>\n",
       "      <td>5064</td>\n",
       "      <td>-1 days</td>\n",
       "    </tr>\n",
       "    <tr>\n",
       "      <th>3</th>\n",
       "      <td>CLA0</td>\n",
       "      <td>2018-07-27</td>\n",
       "      <td>5064</td>\n",
       "      <td>-2 days</td>\n",
       "    </tr>\n",
       "    <tr>\n",
       "      <th>4</th>\n",
       "      <td>CLA0</td>\n",
       "      <td>2018-10-04</td>\n",
       "      <td>5064</td>\n",
       "      <td>0 days</td>\n",
       "    </tr>\n",
       "  </tbody>\n",
       "</table>\n",
       "</div>"
      ],
      "text/plain": [
       "  product_code       date  quantity random_date_delta\n",
       "0         CLA0 2018-01-01      5064           -4 days\n",
       "1         CLA0 2018-03-11      5064            0 days\n",
       "2         CLA0 2018-05-19      5064           -1 days\n",
       "3         CLA0 2018-07-27      5064           -2 days\n",
       "4         CLA0 2018-10-04      5064            0 days"
      ]
     },
     "execution_count": 29,
     "metadata": {},
     "output_type": "execute_result"
    }
   ],
   "source": [
    "sales_df.head()"
   ]
  },
  {
   "cell_type": "code",
   "execution_count": 30,
   "metadata": {},
   "outputs": [],
   "source": [
    "#If you want to add noise :\n",
    "sales_df['noisy_date']=sales_df['date']+sales_df['random_date_delta']\n",
    "#If you want to remove noise:\n",
    "#sales_df['noisy_date']=sales_df['date']"
   ]
  },
  {
   "cell_type": "code",
   "execution_count": 31,
   "metadata": {},
   "outputs": [
    {
     "data": {
      "text/html": [
       "<div>\n",
       "<style scoped>\n",
       "    .dataframe tbody tr th:only-of-type {\n",
       "        vertical-align: middle;\n",
       "    }\n",
       "\n",
       "    .dataframe tbody tr th {\n",
       "        vertical-align: top;\n",
       "    }\n",
       "\n",
       "    .dataframe thead th {\n",
       "        text-align: right;\n",
       "    }\n",
       "</style>\n",
       "<table border=\"1\" class=\"dataframe\">\n",
       "  <thead>\n",
       "    <tr style=\"text-align: right;\">\n",
       "      <th></th>\n",
       "      <th>product_code</th>\n",
       "      <th>date</th>\n",
       "      <th>quantity</th>\n",
       "      <th>random_date_delta</th>\n",
       "      <th>noisy_date</th>\n",
       "    </tr>\n",
       "  </thead>\n",
       "  <tbody>\n",
       "    <tr>\n",
       "      <th>0</th>\n",
       "      <td>CLA0</td>\n",
       "      <td>2018-01-01</td>\n",
       "      <td>5064</td>\n",
       "      <td>-4 days</td>\n",
       "      <td>2017-12-28</td>\n",
       "    </tr>\n",
       "    <tr>\n",
       "      <th>1</th>\n",
       "      <td>CLA0</td>\n",
       "      <td>2018-03-11</td>\n",
       "      <td>5064</td>\n",
       "      <td>0 days</td>\n",
       "      <td>2018-03-11</td>\n",
       "    </tr>\n",
       "    <tr>\n",
       "      <th>2</th>\n",
       "      <td>CLA0</td>\n",
       "      <td>2018-05-19</td>\n",
       "      <td>5064</td>\n",
       "      <td>-1 days</td>\n",
       "      <td>2018-05-18</td>\n",
       "    </tr>\n",
       "    <tr>\n",
       "      <th>3</th>\n",
       "      <td>CLA0</td>\n",
       "      <td>2018-07-27</td>\n",
       "      <td>5064</td>\n",
       "      <td>-2 days</td>\n",
       "      <td>2018-07-25</td>\n",
       "    </tr>\n",
       "    <tr>\n",
       "      <th>4</th>\n",
       "      <td>CLA0</td>\n",
       "      <td>2018-10-04</td>\n",
       "      <td>5064</td>\n",
       "      <td>0 days</td>\n",
       "      <td>2018-10-04</td>\n",
       "    </tr>\n",
       "  </tbody>\n",
       "</table>\n",
       "</div>"
      ],
      "text/plain": [
       "  product_code       date  quantity random_date_delta noisy_date\n",
       "0         CLA0 2018-01-01      5064           -4 days 2017-12-28\n",
       "1         CLA0 2018-03-11      5064            0 days 2018-03-11\n",
       "2         CLA0 2018-05-19      5064           -1 days 2018-05-18\n",
       "3         CLA0 2018-07-27      5064           -2 days 2018-07-25\n",
       "4         CLA0 2018-10-04      5064            0 days 2018-10-04"
      ]
     },
     "execution_count": 31,
     "metadata": {},
     "output_type": "execute_result"
    }
   ],
   "source": [
    "sales_df.head()"
   ]
  },
  {
   "cell_type": "code",
   "execution_count": 32,
   "metadata": {},
   "outputs": [],
   "source": [
    "sales_df['random_qty_delta']=sales_df['quantity']*random_state.uniform(-quantities_noise,quantities_noise,\n",
    "                                                                                   sales_df.shape[0])"
   ]
  },
  {
   "cell_type": "code",
   "execution_count": 33,
   "metadata": {},
   "outputs": [
    {
     "data": {
      "text/html": [
       "<div>\n",
       "<style scoped>\n",
       "    .dataframe tbody tr th:only-of-type {\n",
       "        vertical-align: middle;\n",
       "    }\n",
       "\n",
       "    .dataframe tbody tr th {\n",
       "        vertical-align: top;\n",
       "    }\n",
       "\n",
       "    .dataframe thead th {\n",
       "        text-align: right;\n",
       "    }\n",
       "</style>\n",
       "<table border=\"1\" class=\"dataframe\">\n",
       "  <thead>\n",
       "    <tr style=\"text-align: right;\">\n",
       "      <th></th>\n",
       "      <th>product_code</th>\n",
       "      <th>date</th>\n",
       "      <th>quantity</th>\n",
       "      <th>random_date_delta</th>\n",
       "      <th>noisy_date</th>\n",
       "      <th>random_qty_delta</th>\n",
       "    </tr>\n",
       "  </thead>\n",
       "  <tbody>\n",
       "    <tr>\n",
       "      <th>0</th>\n",
       "      <td>CLA0</td>\n",
       "      <td>2018-01-01</td>\n",
       "      <td>5064</td>\n",
       "      <td>-4 days</td>\n",
       "      <td>2017-12-28</td>\n",
       "      <td>-25.380841</td>\n",
       "    </tr>\n",
       "    <tr>\n",
       "      <th>1</th>\n",
       "      <td>CLA0</td>\n",
       "      <td>2018-03-11</td>\n",
       "      <td>5064</td>\n",
       "      <td>0 days</td>\n",
       "      <td>2018-03-11</td>\n",
       "      <td>-405.804819</td>\n",
       "    </tr>\n",
       "    <tr>\n",
       "      <th>2</th>\n",
       "      <td>CLA0</td>\n",
       "      <td>2018-05-19</td>\n",
       "      <td>5064</td>\n",
       "      <td>-1 days</td>\n",
       "      <td>2018-05-18</td>\n",
       "      <td>-387.566538</td>\n",
       "    </tr>\n",
       "    <tr>\n",
       "      <th>3</th>\n",
       "      <td>CLA0</td>\n",
       "      <td>2018-07-27</td>\n",
       "      <td>5064</td>\n",
       "      <td>-2 days</td>\n",
       "      <td>2018-07-25</td>\n",
       "      <td>3.550234</td>\n",
       "    </tr>\n",
       "    <tr>\n",
       "      <th>4</th>\n",
       "      <td>CLA0</td>\n",
       "      <td>2018-10-04</td>\n",
       "      <td>5064</td>\n",
       "      <td>0 days</td>\n",
       "      <td>2018-10-04</td>\n",
       "      <td>-461.371602</td>\n",
       "    </tr>\n",
       "  </tbody>\n",
       "</table>\n",
       "</div>"
      ],
      "text/plain": [
       "  product_code       date  quantity random_date_delta noisy_date  \\\n",
       "0         CLA0 2018-01-01      5064           -4 days 2017-12-28   \n",
       "1         CLA0 2018-03-11      5064            0 days 2018-03-11   \n",
       "2         CLA0 2018-05-19      5064           -1 days 2018-05-18   \n",
       "3         CLA0 2018-07-27      5064           -2 days 2018-07-25   \n",
       "4         CLA0 2018-10-04      5064            0 days 2018-10-04   \n",
       "\n",
       "   random_qty_delta  \n",
       "0        -25.380841  \n",
       "1       -405.804819  \n",
       "2       -387.566538  \n",
       "3          3.550234  \n",
       "4       -461.371602  "
      ]
     },
     "execution_count": 33,
     "metadata": {},
     "output_type": "execute_result"
    }
   ],
   "source": [
    "sales_df.head()"
   ]
  },
  {
   "cell_type": "code",
   "execution_count": 34,
   "metadata": {},
   "outputs": [],
   "source": [
    "#If you want to add noise:\n",
    "sales_df['noisy_quantity']=sales_df['quantity']+sales_df['random_qty_delta']\n",
    "#If you want to remove noise:\n",
    "#sales_df['noisy_quantity']=sales_df['quantity']"
   ]
  },
  {
   "cell_type": "code",
   "execution_count": 35,
   "metadata": {},
   "outputs": [
    {
     "data": {
      "text/html": [
       "<div>\n",
       "<style scoped>\n",
       "    .dataframe tbody tr th:only-of-type {\n",
       "        vertical-align: middle;\n",
       "    }\n",
       "\n",
       "    .dataframe tbody tr th {\n",
       "        vertical-align: top;\n",
       "    }\n",
       "\n",
       "    .dataframe thead th {\n",
       "        text-align: right;\n",
       "    }\n",
       "</style>\n",
       "<table border=\"1\" class=\"dataframe\">\n",
       "  <thead>\n",
       "    <tr style=\"text-align: right;\">\n",
       "      <th></th>\n",
       "      <th>product_code</th>\n",
       "      <th>date</th>\n",
       "      <th>quantity</th>\n",
       "      <th>random_date_delta</th>\n",
       "      <th>noisy_date</th>\n",
       "      <th>random_qty_delta</th>\n",
       "      <th>noisy_quantity</th>\n",
       "    </tr>\n",
       "  </thead>\n",
       "  <tbody>\n",
       "    <tr>\n",
       "      <th>0</th>\n",
       "      <td>CLA0</td>\n",
       "      <td>2018-01-01</td>\n",
       "      <td>5064</td>\n",
       "      <td>-4 days</td>\n",
       "      <td>2017-12-28</td>\n",
       "      <td>-25.380841</td>\n",
       "      <td>5038.619159</td>\n",
       "    </tr>\n",
       "    <tr>\n",
       "      <th>1</th>\n",
       "      <td>CLA0</td>\n",
       "      <td>2018-03-11</td>\n",
       "      <td>5064</td>\n",
       "      <td>0 days</td>\n",
       "      <td>2018-03-11</td>\n",
       "      <td>-405.804819</td>\n",
       "      <td>4658.195181</td>\n",
       "    </tr>\n",
       "    <tr>\n",
       "      <th>2</th>\n",
       "      <td>CLA0</td>\n",
       "      <td>2018-05-19</td>\n",
       "      <td>5064</td>\n",
       "      <td>-1 days</td>\n",
       "      <td>2018-05-18</td>\n",
       "      <td>-387.566538</td>\n",
       "      <td>4676.433462</td>\n",
       "    </tr>\n",
       "    <tr>\n",
       "      <th>3</th>\n",
       "      <td>CLA0</td>\n",
       "      <td>2018-07-27</td>\n",
       "      <td>5064</td>\n",
       "      <td>-2 days</td>\n",
       "      <td>2018-07-25</td>\n",
       "      <td>3.550234</td>\n",
       "      <td>5067.550234</td>\n",
       "    </tr>\n",
       "    <tr>\n",
       "      <th>4</th>\n",
       "      <td>CLA0</td>\n",
       "      <td>2018-10-04</td>\n",
       "      <td>5064</td>\n",
       "      <td>0 days</td>\n",
       "      <td>2018-10-04</td>\n",
       "      <td>-461.371602</td>\n",
       "      <td>4602.628398</td>\n",
       "    </tr>\n",
       "  </tbody>\n",
       "</table>\n",
       "</div>"
      ],
      "text/plain": [
       "  product_code       date  quantity random_date_delta noisy_date  \\\n",
       "0         CLA0 2018-01-01      5064           -4 days 2017-12-28   \n",
       "1         CLA0 2018-03-11      5064            0 days 2018-03-11   \n",
       "2         CLA0 2018-05-19      5064           -1 days 2018-05-18   \n",
       "3         CLA0 2018-07-27      5064           -2 days 2018-07-25   \n",
       "4         CLA0 2018-10-04      5064            0 days 2018-10-04   \n",
       "\n",
       "   random_qty_delta  noisy_quantity  \n",
       "0        -25.380841     5038.619159  \n",
       "1       -405.804819     4658.195181  \n",
       "2       -387.566538     4676.433462  \n",
       "3          3.550234     5067.550234  \n",
       "4       -461.371602     4602.628398  "
      ]
     },
     "execution_count": 35,
     "metadata": {},
     "output_type": "execute_result"
    }
   ],
   "source": [
    "sales_df.head()"
   ]
  },
  {
   "cell_type": "code",
   "execution_count": 36,
   "metadata": {},
   "outputs": [],
   "source": [
    "noisy_sales_df=sales_df[['product_code',\n",
    "                        'noisy_date',\n",
    "                        'noisy_quantity']]"
   ]
  },
  {
   "cell_type": "code",
   "execution_count": 37,
   "metadata": {},
   "outputs": [
    {
     "data": {
      "text/html": [
       "<div>\n",
       "<style scoped>\n",
       "    .dataframe tbody tr th:only-of-type {\n",
       "        vertical-align: middle;\n",
       "    }\n",
       "\n",
       "    .dataframe tbody tr th {\n",
       "        vertical-align: top;\n",
       "    }\n",
       "\n",
       "    .dataframe thead th {\n",
       "        text-align: right;\n",
       "    }\n",
       "</style>\n",
       "<table border=\"1\" class=\"dataframe\">\n",
       "  <thead>\n",
       "    <tr style=\"text-align: right;\">\n",
       "      <th></th>\n",
       "      <th>product_code</th>\n",
       "      <th>noisy_date</th>\n",
       "      <th>noisy_quantity</th>\n",
       "    </tr>\n",
       "  </thead>\n",
       "  <tbody>\n",
       "    <tr>\n",
       "      <th>0</th>\n",
       "      <td>CLA0</td>\n",
       "      <td>2017-12-28</td>\n",
       "      <td>5038.619159</td>\n",
       "    </tr>\n",
       "    <tr>\n",
       "      <th>1</th>\n",
       "      <td>CLA0</td>\n",
       "      <td>2018-03-11</td>\n",
       "      <td>4658.195181</td>\n",
       "    </tr>\n",
       "    <tr>\n",
       "      <th>2</th>\n",
       "      <td>CLA0</td>\n",
       "      <td>2018-05-18</td>\n",
       "      <td>4676.433462</td>\n",
       "    </tr>\n",
       "    <tr>\n",
       "      <th>3</th>\n",
       "      <td>CLA0</td>\n",
       "      <td>2018-07-25</td>\n",
       "      <td>5067.550234</td>\n",
       "    </tr>\n",
       "    <tr>\n",
       "      <th>4</th>\n",
       "      <td>CLA0</td>\n",
       "      <td>2018-10-04</td>\n",
       "      <td>4602.628398</td>\n",
       "    </tr>\n",
       "  </tbody>\n",
       "</table>\n",
       "</div>"
      ],
      "text/plain": [
       "  product_code noisy_date  noisy_quantity\n",
       "0         CLA0 2017-12-28     5038.619159\n",
       "1         CLA0 2018-03-11     4658.195181\n",
       "2         CLA0 2018-05-18     4676.433462\n",
       "3         CLA0 2018-07-25     5067.550234\n",
       "4         CLA0 2018-10-04     4602.628398"
      ]
     },
     "execution_count": 37,
     "metadata": {},
     "output_type": "execute_result"
    }
   ],
   "source": [
    "noisy_sales_df.head()"
   ]
  },
  {
   "cell_type": "code",
   "execution_count": 38,
   "metadata": {},
   "outputs": [
    {
     "data": {
      "text/plain": [
       "(279, 3)"
      ]
     },
     "execution_count": 38,
     "metadata": {},
     "output_type": "execute_result"
    }
   ],
   "source": [
    "noisy_sales_df.shape"
   ]
  },
  {
   "cell_type": "code",
   "execution_count": 39,
   "metadata": {},
   "outputs": [],
   "source": [
    "noisy_sales_df.to_csv('../data/raw/sales_table.csv',\n",
    "                     index=False)"
   ]
  },
  {
   "cell_type": "code",
   "execution_count": 40,
   "metadata": {},
   "outputs": [],
   "source": [
    "products_clusters=pd.DataFrame(product_table.droplevel(0))"
   ]
  },
  {
   "cell_type": "code",
   "execution_count": 41,
   "metadata": {},
   "outputs": [],
   "source": [
    "products_clusters.rename_axis('product_code',axis=0,inplace=True)"
   ]
  },
  {
   "cell_type": "code",
   "execution_count": 42,
   "metadata": {},
   "outputs": [
    {
     "data": {
      "text/html": [
       "<div>\n",
       "<style scoped>\n",
       "    .dataframe tbody tr th:only-of-type {\n",
       "        vertical-align: middle;\n",
       "    }\n",
       "\n",
       "    .dataframe tbody tr th {\n",
       "        vertical-align: top;\n",
       "    }\n",
       "\n",
       "    .dataframe thead th {\n",
       "        text-align: right;\n",
       "    }\n",
       "</style>\n",
       "<table border=\"1\" class=\"dataframe\">\n",
       "  <thead>\n",
       "    <tr style=\"text-align: right;\">\n",
       "      <th></th>\n",
       "      <th>Cluster</th>\n",
       "    </tr>\n",
       "    <tr>\n",
       "      <th>product_code</th>\n",
       "      <th></th>\n",
       "    </tr>\n",
       "  </thead>\n",
       "  <tbody>\n",
       "    <tr>\n",
       "      <th>CLA0</th>\n",
       "      <td>0</td>\n",
       "    </tr>\n",
       "    <tr>\n",
       "      <th>CLA1</th>\n",
       "      <td>2</td>\n",
       "    </tr>\n",
       "    <tr>\n",
       "      <th>CLB0</th>\n",
       "      <td>4</td>\n",
       "    </tr>\n",
       "    <tr>\n",
       "      <th>CLB1</th>\n",
       "      <td>0</td>\n",
       "    </tr>\n",
       "    <tr>\n",
       "      <th>CLB2</th>\n",
       "      <td>1</td>\n",
       "    </tr>\n",
       "    <tr>\n",
       "      <th>CLB3</th>\n",
       "      <td>3</td>\n",
       "    </tr>\n",
       "    <tr>\n",
       "      <th>CLB4</th>\n",
       "      <td>1</td>\n",
       "    </tr>\n",
       "    <tr>\n",
       "      <th>CLC0</th>\n",
       "      <td>0</td>\n",
       "    </tr>\n",
       "    <tr>\n",
       "      <th>CLC1</th>\n",
       "      <td>4</td>\n",
       "    </tr>\n",
       "    <tr>\n",
       "      <th>CLD0</th>\n",
       "      <td>3</td>\n",
       "    </tr>\n",
       "    <tr>\n",
       "      <th>CLD1</th>\n",
       "      <td>4</td>\n",
       "    </tr>\n",
       "    <tr>\n",
       "      <th>CLD2</th>\n",
       "      <td>4</td>\n",
       "    </tr>\n",
       "    <tr>\n",
       "      <th>CLD3</th>\n",
       "      <td>0</td>\n",
       "    </tr>\n",
       "    <tr>\n",
       "      <th>CLE0</th>\n",
       "      <td>4</td>\n",
       "    </tr>\n",
       "  </tbody>\n",
       "</table>\n",
       "</div>"
      ],
      "text/plain": [
       "              Cluster\n",
       "product_code         \n",
       "CLA0                0\n",
       "CLA1                2\n",
       "CLB0                4\n",
       "CLB1                0\n",
       "CLB2                1\n",
       "CLB3                3\n",
       "CLB4                1\n",
       "CLC0                0\n",
       "CLC1                4\n",
       "CLD0                3\n",
       "CLD1                4\n",
       "CLD2                4\n",
       "CLD3                0\n",
       "CLE0                4"
      ]
     },
     "execution_count": 42,
     "metadata": {},
     "output_type": "execute_result"
    }
   ],
   "source": [
    "products_clusters"
   ]
  },
  {
   "cell_type": "code",
   "execution_count": 43,
   "metadata": {},
   "outputs": [],
   "source": [
    "sales_cluster_df=noisy_sales_df.join(products_clusters,how='outer',on='product_code')"
   ]
  },
  {
   "cell_type": "code",
   "execution_count": 44,
   "metadata": {},
   "outputs": [
    {
     "data": {
      "text/plain": [
       "(279, 4)"
      ]
     },
     "execution_count": 44,
     "metadata": {},
     "output_type": "execute_result"
    }
   ],
   "source": [
    "sales_cluster_df.shape"
   ]
  },
  {
   "cell_type": "code",
   "execution_count": 45,
   "metadata": {},
   "outputs": [
    {
     "data": {
      "text/html": [
       "<div>\n",
       "<style scoped>\n",
       "    .dataframe tbody tr th:only-of-type {\n",
       "        vertical-align: middle;\n",
       "    }\n",
       "\n",
       "    .dataframe tbody tr th {\n",
       "        vertical-align: top;\n",
       "    }\n",
       "\n",
       "    .dataframe thead th {\n",
       "        text-align: right;\n",
       "    }\n",
       "</style>\n",
       "<table border=\"1\" class=\"dataframe\">\n",
       "  <thead>\n",
       "    <tr style=\"text-align: right;\">\n",
       "      <th></th>\n",
       "      <th>product_code</th>\n",
       "      <th>noisy_date</th>\n",
       "      <th>noisy_quantity</th>\n",
       "      <th>Cluster</th>\n",
       "    </tr>\n",
       "  </thead>\n",
       "  <tbody>\n",
       "    <tr>\n",
       "      <th>0</th>\n",
       "      <td>CLA0</td>\n",
       "      <td>2017-12-28</td>\n",
       "      <td>5038.619159</td>\n",
       "      <td>0</td>\n",
       "    </tr>\n",
       "    <tr>\n",
       "      <th>1</th>\n",
       "      <td>CLA0</td>\n",
       "      <td>2018-03-11</td>\n",
       "      <td>4658.195181</td>\n",
       "      <td>0</td>\n",
       "    </tr>\n",
       "    <tr>\n",
       "      <th>2</th>\n",
       "      <td>CLA0</td>\n",
       "      <td>2018-05-18</td>\n",
       "      <td>4676.433462</td>\n",
       "      <td>0</td>\n",
       "    </tr>\n",
       "    <tr>\n",
       "      <th>3</th>\n",
       "      <td>CLA0</td>\n",
       "      <td>2018-07-25</td>\n",
       "      <td>5067.550234</td>\n",
       "      <td>0</td>\n",
       "    </tr>\n",
       "    <tr>\n",
       "      <th>4</th>\n",
       "      <td>CLA0</td>\n",
       "      <td>2018-10-04</td>\n",
       "      <td>4602.628398</td>\n",
       "      <td>0</td>\n",
       "    </tr>\n",
       "  </tbody>\n",
       "</table>\n",
       "</div>"
      ],
      "text/plain": [
       "  product_code noisy_date  noisy_quantity  Cluster\n",
       "0         CLA0 2017-12-28     5038.619159        0\n",
       "1         CLA0 2018-03-11     4658.195181        0\n",
       "2         CLA0 2018-05-18     4676.433462        0\n",
       "3         CLA0 2018-07-25     5067.550234        0\n",
       "4         CLA0 2018-10-04     4602.628398        0"
      ]
     },
     "execution_count": 45,
     "metadata": {},
     "output_type": "execute_result"
    }
   ],
   "source": [
    "sales_cluster_df.head()"
   ]
  },
  {
   "cell_type": "code",
   "execution_count": 46,
   "metadata": {},
   "outputs": [
    {
     "data": {
      "text/plain": [
       "3    148\n",
       "4     78\n",
       "0     32\n",
       "1     17\n",
       "2      4\n",
       "Name: Cluster, dtype: int64"
      ]
     },
     "execution_count": 46,
     "metadata": {},
     "output_type": "execute_result"
    }
   ],
   "source": [
    "sales_cluster_df.Cluster.value_counts()"
   ]
  },
  {
   "cell_type": "code",
   "execution_count": 47,
   "metadata": {},
   "outputs": [],
   "source": [
    "sales_cluster_df.to_csv('../data/raw/sales_cluster_table.csv',\n",
    "                     index=False)"
   ]
  }
 ],
 "metadata": {
  "kernelspec": {
   "display_name": "fastai",
   "language": "python",
   "name": "fastai"
  },
  "language_info": {
   "codemirror_mode": {
    "name": "ipython",
    "version": 3
   },
   "file_extension": ".py",
   "mimetype": "text/x-python",
   "name": "python",
   "nbconvert_exporter": "python",
   "pygments_lexer": "ipython3",
   "version": "3.7.3"
  }
 },
 "nbformat": 4,
 "nbformat_minor": 2
}
