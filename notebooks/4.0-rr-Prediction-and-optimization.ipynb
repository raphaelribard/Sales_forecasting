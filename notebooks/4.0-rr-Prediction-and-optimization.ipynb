{
 "cells": [
  {
   "cell_type": "markdown",
   "metadata": {},
   "source": [
    "# This notebook will combine the prediction bit and the optimisation bit to see how the algorithm perform"
   ]
  },
  {
   "cell_type": "code",
   "execution_count": 1,
   "metadata": {},
   "outputs": [],
   "source": [
    "# Magic line to avoid explicitely write plt.show()\n",
    "%matplotlib inline"
   ]
  },
  {
   "cell_type": "code",
   "execution_count": 2,
   "metadata": {},
   "outputs": [],
   "source": [
    "#do not show warnings\n",
    "import warnings\n",
    "warnings.filterwarnings(\"ignore\")"
   ]
  },
  {
   "cell_type": "markdown",
   "metadata": {},
   "source": [
    "## First part : Optimisation for cluster #0 (just as a test)"
   ]
  },
  {
   "cell_type": "code",
   "execution_count": 7,
   "metadata": {},
   "outputs": [],
   "source": [
    "import pandas as pd"
   ]
  },
  {
   "cell_type": "code",
   "execution_count": 8,
   "metadata": {},
   "outputs": [],
   "source": [
    "sales_clusters_df=pd.read_csv('../data/raw/sales_cluster_table.csv')"
   ]
  },
  {
   "cell_type": "code",
   "execution_count": 9,
   "metadata": {},
   "outputs": [],
   "source": [
    "sales_clusters_df['noisy_date']=pd.to_datetime(sales_clusters_df['noisy_date'])"
   ]
  },
  {
   "cell_type": "code",
   "execution_count": 10,
   "metadata": {},
   "outputs": [],
   "source": [
    "# The library I created is called FaaS : Forecast as a Service\n",
    "import FaaS"
   ]
  },
  {
   "cell_type": "code",
   "execution_count": 11,
   "metadata": {},
   "outputs": [
    {
     "name": "stdout",
     "output_type": "stream",
     "text": [
      "Help on function print_msg in module FaaS:\n",
      "\n",
      "print_msg(msg)\n",
      "\n"
     ]
    }
   ],
   "source": [
    "help(FaaS.print_msg)"
   ]
  },
  {
   "cell_type": "code",
   "execution_count": 13,
   "metadata": {},
   "outputs": [
    {
     "name": "stderr",
     "output_type": "stream",
     "text": [
      "100%|██████████| 32/32 [00:01<00:00, 25.54it/s]\n"
     ]
    },
    {
     "name": "stdout",
     "output_type": "stream",
     "text": [
      "------------------------------\n",
      "The workload is reduced by 40%\n",
      "------------------------------\n"
     ]
    },
    {
     "data": {
      "application/vnd.plotly.v1+json": {
       "config": {
        "plotlyServerURL": "https://plot.ly"
       },
       "data": [
        {
         "mode": "markers",
         "name": "Cluster 0",
         "type": "scatter",
         "x": [
          "2017-12-28",
          "2018-03-11",
          "2018-05-18",
          "2018-07-25",
          "2018-10-04",
          "2018-12-21",
          "2019-02-21",
          "2019-04-21",
          "2019-07-07",
          "2017-12-26",
          "2018-02-11",
          "2018-03-19",
          "2018-05-01",
          "2018-06-06",
          "2018-07-25",
          "2018-08-20",
          "2018-09-28",
          "2018-11-13",
          "2018-12-27",
          "2019-02-08",
          "2019-03-09",
          "2019-04-19",
          "2019-05-29",
          "2019-07-14",
          "2017-12-31",
          "2018-06-08",
          "2018-11-08",
          "2019-04-19",
          "2017-12-30",
          "2018-06-14",
          "2018-11-23",
          "2019-04-30"
         ],
         "y": [
          5038.61915896886,
          4658.195180889406,
          4676.433462461426,
          5067.550234162787,
          4602.62839791011,
          4873.4629457846395,
          5336.037630087328,
          5112.239649877762,
          5104.938013722983,
          6314.400965995367,
          6181.772772121883,
          5577.890227833219,
          5241.6551738544,
          5274.909500826835,
          6082.095754189994,
          5524.199875810919,
          6208.139345831026,
          5202.157893782903,
          6095.953713898589,
          6097.284358823955,
          5381.3172263601255,
          5811.909802552826,
          6215.565413288294,
          5517.380754043955,
          6572.00920377897,
          7394.180590412454,
          6829.46244357957,
          6285.941605442479,
          1522.9672811314565,
          1805.8089369061936,
          1634.2935853641995,
          1776.8498901564392
         ]
        },
        {
         "marker": {
          "color": "lightgrey"
         },
         "name": "Batch dates",
         "type": "bar",
         "x": [
          "2017-12-28T12:00:00",
          "2018-02-11T00:00:00",
          "2018-03-15T00:00:00",
          "2018-05-01T00:00:00",
          "2018-05-18T00:00:00",
          "2018-06-10T00:00:00",
          "2018-07-25T00:00:00",
          "2018-08-20T00:00:00",
          "2018-10-01T00:00:00",
          "2018-11-10T12:00:00",
          "2018-11-23T00:00:00",
          "2018-12-24T00:00:00",
          "2019-02-08T00:00:00",
          "2019-02-21T00:00:00",
          "2019-03-09T00:00:00",
          "2019-04-20T00:00:00",
          "2019-04-30T00:00:00",
          "2019-05-29T00:00:00",
          "2019-07-10T12:00:00"
         ],
         "y": [
          7394.180590412454,
          7394.180590412454,
          7394.180590412454,
          7394.180590412454,
          7394.180590412454,
          7394.180590412454,
          7394.180590412454,
          7394.180590412454,
          7394.180590412454,
          7394.180590412454,
          7394.180590412454,
          7394.180590412454,
          7394.180590412454,
          7394.180590412454,
          7394.180590412454,
          7394.180590412454,
          7394.180590412454,
          7394.180590412454,
          7394.180590412454
         ]
        },
        {
         "mode": "markers",
         "name": "batch 1",
         "type": "scatter",
         "x": [
          "2017-12-26",
          "2017-12-28",
          "2017-12-30",
          "2017-12-31"
         ],
         "y": [
          6314.400965995367,
          5038.61915896886,
          1522.9672811314565,
          6572.00920377897
         ]
        },
        {
         "mode": "markers",
         "name": "batch 2",
         "type": "scatter",
         "x": [
          "2018-06-06",
          "2018-06-08",
          "2018-06-14"
         ],
         "y": [
          5274.909500826835,
          7394.180590412454,
          1805.8089369061936
         ]
        },
        {
         "mode": "markers",
         "name": "batch 3",
         "type": "scatter",
         "x": [
          "2019-04-19",
          "2019-04-19",
          "2019-04-21"
         ],
         "y": [
          5811.909802552826,
          6285.941605442479,
          5112.239649877762
         ]
        },
        {
         "mode": "markers",
         "name": "batch 9",
         "type": "scatter",
         "x": [
          "2018-03-11",
          "2018-03-19"
         ],
         "y": [
          4658.195180889406,
          5577.890227833219
         ]
        },
        {
         "mode": "markers",
         "name": "batch 8",
         "type": "scatter",
         "x": [
          "2019-07-07",
          "2019-07-14"
         ],
         "y": [
          5104.938013722983,
          5517.380754043955
         ]
        },
        {
         "mode": "markers",
         "name": "batch 4",
         "type": "scatter",
         "x": [
          "2018-09-28",
          "2018-10-04"
         ],
         "y": [
          6208.139345831026,
          4602.62839791011
         ]
        },
        {
         "mode": "markers",
         "name": "batch 5",
         "type": "scatter",
         "x": [
          "2018-12-21",
          "2018-12-27"
         ],
         "y": [
          4873.4629457846395,
          6095.953713898589
         ]
        },
        {
         "mode": "markers",
         "name": "batch 6",
         "type": "scatter",
         "x": [
          "2018-11-08",
          "2018-11-13"
         ],
         "y": [
          6829.46244357957,
          5202.157893782903
         ]
        },
        {
         "mode": "markers",
         "name": "batch 7",
         "type": "scatter",
         "x": [
          "2018-07-25",
          "2018-07-25"
         ],
         "y": [
          5067.550234162787,
          6082.095754189994
         ]
        },
        {
         "mode": "markers",
         "name": "batch 18",
         "type": "scatter",
         "x": [
          "2018-08-20"
         ],
         "y": [
          5524.199875810919
         ]
        },
        {
         "mode": "markers",
         "name": "batch 17",
         "type": "scatter",
         "x": [
          "2018-05-18"
         ],
         "y": [
          4676.433462461426
         ]
        },
        {
         "mode": "markers",
         "name": "batch 10",
         "type": "scatter",
         "x": [
          "2019-05-29"
         ],
         "y": [
          6215.565413288294
         ]
        },
        {
         "mode": "markers",
         "name": "batch 11",
         "type": "scatter",
         "x": [
          "2018-02-11"
         ],
         "y": [
          6181.772772121883
         ]
        },
        {
         "mode": "markers",
         "name": "batch 12",
         "type": "scatter",
         "x": [
          "2019-03-09"
         ],
         "y": [
          5381.3172263601255
         ]
        },
        {
         "mode": "markers",
         "name": "batch 13",
         "type": "scatter",
         "x": [
          "2019-02-21"
         ],
         "y": [
          5336.037630087328
         ]
        },
        {
         "mode": "markers",
         "name": "batch 14",
         "type": "scatter",
         "x": [
          "2019-02-08"
         ],
         "y": [
          6097.284358823955
         ]
        },
        {
         "mode": "markers",
         "name": "batch 15",
         "type": "scatter",
         "x": [
          "2018-05-01"
         ],
         "y": [
          5241.6551738544
         ]
        },
        {
         "mode": "markers",
         "name": "batch 16",
         "type": "scatter",
         "x": [
          "2018-11-23"
         ],
         "y": [
          1634.2935853641995
         ]
        },
        {
         "mode": "markers",
         "name": "batch 0",
         "type": "scatter",
         "visible": true,
         "x": [
          "2019-04-30"
         ],
         "y": [
          1776.8498901564392
         ]
        }
       ],
       "layout": {
        "autosize": true,
        "template": {
         "data": {
          "bar": [
           {
            "error_x": {
             "color": "#2a3f5f"
            },
            "error_y": {
             "color": "#2a3f5f"
            },
            "marker": {
             "line": {
              "color": "#E5ECF6",
              "width": 0.5
             }
            },
            "type": "bar"
           }
          ],
          "barpolar": [
           {
            "marker": {
             "line": {
              "color": "#E5ECF6",
              "width": 0.5
             }
            },
            "type": "barpolar"
           }
          ],
          "carpet": [
           {
            "aaxis": {
             "endlinecolor": "#2a3f5f",
             "gridcolor": "white",
             "linecolor": "white",
             "minorgridcolor": "white",
             "startlinecolor": "#2a3f5f"
            },
            "baxis": {
             "endlinecolor": "#2a3f5f",
             "gridcolor": "white",
             "linecolor": "white",
             "minorgridcolor": "white",
             "startlinecolor": "#2a3f5f"
            },
            "type": "carpet"
           }
          ],
          "choropleth": [
           {
            "colorbar": {
             "outlinewidth": 0,
             "ticks": ""
            },
            "type": "choropleth"
           }
          ],
          "contour": [
           {
            "colorbar": {
             "outlinewidth": 0,
             "ticks": ""
            },
            "colorscale": [
             [
              0,
              "#0d0887"
             ],
             [
              0.1111111111111111,
              "#46039f"
             ],
             [
              0.2222222222222222,
              "#7201a8"
             ],
             [
              0.3333333333333333,
              "#9c179e"
             ],
             [
              0.4444444444444444,
              "#bd3786"
             ],
             [
              0.5555555555555556,
              "#d8576b"
             ],
             [
              0.6666666666666666,
              "#ed7953"
             ],
             [
              0.7777777777777778,
              "#fb9f3a"
             ],
             [
              0.8888888888888888,
              "#fdca26"
             ],
             [
              1,
              "#f0f921"
             ]
            ],
            "type": "contour"
           }
          ],
          "contourcarpet": [
           {
            "colorbar": {
             "outlinewidth": 0,
             "ticks": ""
            },
            "type": "contourcarpet"
           }
          ],
          "heatmap": [
           {
            "colorbar": {
             "outlinewidth": 0,
             "ticks": ""
            },
            "colorscale": [
             [
              0,
              "#0d0887"
             ],
             [
              0.1111111111111111,
              "#46039f"
             ],
             [
              0.2222222222222222,
              "#7201a8"
             ],
             [
              0.3333333333333333,
              "#9c179e"
             ],
             [
              0.4444444444444444,
              "#bd3786"
             ],
             [
              0.5555555555555556,
              "#d8576b"
             ],
             [
              0.6666666666666666,
              "#ed7953"
             ],
             [
              0.7777777777777778,
              "#fb9f3a"
             ],
             [
              0.8888888888888888,
              "#fdca26"
             ],
             [
              1,
              "#f0f921"
             ]
            ],
            "type": "heatmap"
           }
          ],
          "heatmapgl": [
           {
            "colorbar": {
             "outlinewidth": 0,
             "ticks": ""
            },
            "colorscale": [
             [
              0,
              "#0d0887"
             ],
             [
              0.1111111111111111,
              "#46039f"
             ],
             [
              0.2222222222222222,
              "#7201a8"
             ],
             [
              0.3333333333333333,
              "#9c179e"
             ],
             [
              0.4444444444444444,
              "#bd3786"
             ],
             [
              0.5555555555555556,
              "#d8576b"
             ],
             [
              0.6666666666666666,
              "#ed7953"
             ],
             [
              0.7777777777777778,
              "#fb9f3a"
             ],
             [
              0.8888888888888888,
              "#fdca26"
             ],
             [
              1,
              "#f0f921"
             ]
            ],
            "type": "heatmapgl"
           }
          ],
          "histogram": [
           {
            "marker": {
             "colorbar": {
              "outlinewidth": 0,
              "ticks": ""
             }
            },
            "type": "histogram"
           }
          ],
          "histogram2d": [
           {
            "colorbar": {
             "outlinewidth": 0,
             "ticks": ""
            },
            "colorscale": [
             [
              0,
              "#0d0887"
             ],
             [
              0.1111111111111111,
              "#46039f"
             ],
             [
              0.2222222222222222,
              "#7201a8"
             ],
             [
              0.3333333333333333,
              "#9c179e"
             ],
             [
              0.4444444444444444,
              "#bd3786"
             ],
             [
              0.5555555555555556,
              "#d8576b"
             ],
             [
              0.6666666666666666,
              "#ed7953"
             ],
             [
              0.7777777777777778,
              "#fb9f3a"
             ],
             [
              0.8888888888888888,
              "#fdca26"
             ],
             [
              1,
              "#f0f921"
             ]
            ],
            "type": "histogram2d"
           }
          ],
          "histogram2dcontour": [
           {
            "colorbar": {
             "outlinewidth": 0,
             "ticks": ""
            },
            "colorscale": [
             [
              0,
              "#0d0887"
             ],
             [
              0.1111111111111111,
              "#46039f"
             ],
             [
              0.2222222222222222,
              "#7201a8"
             ],
             [
              0.3333333333333333,
              "#9c179e"
             ],
             [
              0.4444444444444444,
              "#bd3786"
             ],
             [
              0.5555555555555556,
              "#d8576b"
             ],
             [
              0.6666666666666666,
              "#ed7953"
             ],
             [
              0.7777777777777778,
              "#fb9f3a"
             ],
             [
              0.8888888888888888,
              "#fdca26"
             ],
             [
              1,
              "#f0f921"
             ]
            ],
            "type": "histogram2dcontour"
           }
          ],
          "mesh3d": [
           {
            "colorbar": {
             "outlinewidth": 0,
             "ticks": ""
            },
            "type": "mesh3d"
           }
          ],
          "parcoords": [
           {
            "line": {
             "colorbar": {
              "outlinewidth": 0,
              "ticks": ""
             }
            },
            "type": "parcoords"
           }
          ],
          "scatter": [
           {
            "marker": {
             "colorbar": {
              "outlinewidth": 0,
              "ticks": ""
             }
            },
            "type": "scatter"
           }
          ],
          "scatter3d": [
           {
            "line": {
             "colorbar": {
              "outlinewidth": 0,
              "ticks": ""
             }
            },
            "marker": {
             "colorbar": {
              "outlinewidth": 0,
              "ticks": ""
             }
            },
            "type": "scatter3d"
           }
          ],
          "scattercarpet": [
           {
            "marker": {
             "colorbar": {
              "outlinewidth": 0,
              "ticks": ""
             }
            },
            "type": "scattercarpet"
           }
          ],
          "scattergeo": [
           {
            "marker": {
             "colorbar": {
              "outlinewidth": 0,
              "ticks": ""
             }
            },
            "type": "scattergeo"
           }
          ],
          "scattergl": [
           {
            "marker": {
             "colorbar": {
              "outlinewidth": 0,
              "ticks": ""
             }
            },
            "type": "scattergl"
           }
          ],
          "scattermapbox": [
           {
            "marker": {
             "colorbar": {
              "outlinewidth": 0,
              "ticks": ""
             }
            },
            "type": "scattermapbox"
           }
          ],
          "scatterpolar": [
           {
            "marker": {
             "colorbar": {
              "outlinewidth": 0,
              "ticks": ""
             }
            },
            "type": "scatterpolar"
           }
          ],
          "scatterpolargl": [
           {
            "marker": {
             "colorbar": {
              "outlinewidth": 0,
              "ticks": ""
             }
            },
            "type": "scatterpolargl"
           }
          ],
          "scatterternary": [
           {
            "marker": {
             "colorbar": {
              "outlinewidth": 0,
              "ticks": ""
             }
            },
            "type": "scatterternary"
           }
          ],
          "surface": [
           {
            "colorbar": {
             "outlinewidth": 0,
             "ticks": ""
            },
            "colorscale": [
             [
              0,
              "#0d0887"
             ],
             [
              0.1111111111111111,
              "#46039f"
             ],
             [
              0.2222222222222222,
              "#7201a8"
             ],
             [
              0.3333333333333333,
              "#9c179e"
             ],
             [
              0.4444444444444444,
              "#bd3786"
             ],
             [
              0.5555555555555556,
              "#d8576b"
             ],
             [
              0.6666666666666666,
              "#ed7953"
             ],
             [
              0.7777777777777778,
              "#fb9f3a"
             ],
             [
              0.8888888888888888,
              "#fdca26"
             ],
             [
              1,
              "#f0f921"
             ]
            ],
            "type": "surface"
           }
          ],
          "table": [
           {
            "cells": {
             "fill": {
              "color": "#EBF0F8"
             },
             "line": {
              "color": "white"
             }
            },
            "header": {
             "fill": {
              "color": "#C8D4E3"
             },
             "line": {
              "color": "white"
             }
            },
            "type": "table"
           }
          ]
         },
         "layout": {
          "annotationdefaults": {
           "arrowcolor": "#2a3f5f",
           "arrowhead": 0,
           "arrowwidth": 1
          },
          "colorscale": {
           "diverging": [
            [
             0,
             "#8e0152"
            ],
            [
             0.1,
             "#c51b7d"
            ],
            [
             0.2,
             "#de77ae"
            ],
            [
             0.3,
             "#f1b6da"
            ],
            [
             0.4,
             "#fde0ef"
            ],
            [
             0.5,
             "#f7f7f7"
            ],
            [
             0.6,
             "#e6f5d0"
            ],
            [
             0.7,
             "#b8e186"
            ],
            [
             0.8,
             "#7fbc41"
            ],
            [
             0.9,
             "#4d9221"
            ],
            [
             1,
             "#276419"
            ]
           ],
           "sequential": [
            [
             0,
             "#0d0887"
            ],
            [
             0.1111111111111111,
             "#46039f"
            ],
            [
             0.2222222222222222,
             "#7201a8"
            ],
            [
             0.3333333333333333,
             "#9c179e"
            ],
            [
             0.4444444444444444,
             "#bd3786"
            ],
            [
             0.5555555555555556,
             "#d8576b"
            ],
            [
             0.6666666666666666,
             "#ed7953"
            ],
            [
             0.7777777777777778,
             "#fb9f3a"
            ],
            [
             0.8888888888888888,
             "#fdca26"
            ],
            [
             1,
             "#f0f921"
            ]
           ],
           "sequentialminus": [
            [
             0,
             "#0d0887"
            ],
            [
             0.1111111111111111,
             "#46039f"
            ],
            [
             0.2222222222222222,
             "#7201a8"
            ],
            [
             0.3333333333333333,
             "#9c179e"
            ],
            [
             0.4444444444444444,
             "#bd3786"
            ],
            [
             0.5555555555555556,
             "#d8576b"
            ],
            [
             0.6666666666666666,
             "#ed7953"
            ],
            [
             0.7777777777777778,
             "#fb9f3a"
            ],
            [
             0.8888888888888888,
             "#fdca26"
            ],
            [
             1,
             "#f0f921"
            ]
           ]
          },
          "colorway": [
           "#636efa",
           "#EF553B",
           "#00cc96",
           "#ab63fa",
           "#FFA15A",
           "#19d3f3",
           "#FF6692",
           "#B6E880",
           "#FF97FF",
           "#FECB52"
          ],
          "font": {
           "color": "#2a3f5f"
          },
          "geo": {
           "bgcolor": "white",
           "lakecolor": "white",
           "landcolor": "#E5ECF6",
           "showlakes": true,
           "showland": true,
           "subunitcolor": "white"
          },
          "hoverlabel": {
           "align": "left"
          },
          "hovermode": "closest",
          "mapbox": {
           "style": "light"
          },
          "paper_bgcolor": "white",
          "plot_bgcolor": "#E5ECF6",
          "polar": {
           "angularaxis": {
            "gridcolor": "white",
            "linecolor": "white",
            "ticks": ""
           },
           "bgcolor": "#E5ECF6",
           "radialaxis": {
            "gridcolor": "white",
            "linecolor": "white",
            "ticks": ""
           }
          },
          "scene": {
           "xaxis": {
            "backgroundcolor": "#E5ECF6",
            "gridcolor": "white",
            "gridwidth": 2,
            "linecolor": "white",
            "showbackground": true,
            "ticks": "",
            "zerolinecolor": "white"
           },
           "yaxis": {
            "backgroundcolor": "#E5ECF6",
            "gridcolor": "white",
            "gridwidth": 2,
            "linecolor": "white",
            "showbackground": true,
            "ticks": "",
            "zerolinecolor": "white"
           },
           "zaxis": {
            "backgroundcolor": "#E5ECF6",
            "gridcolor": "white",
            "gridwidth": 2,
            "linecolor": "white",
            "showbackground": true,
            "ticks": "",
            "zerolinecolor": "white"
           }
          },
          "shapedefaults": {
           "line": {
            "color": "#2a3f5f"
           }
          },
          "ternary": {
           "aaxis": {
            "gridcolor": "white",
            "linecolor": "white",
            "ticks": ""
           },
           "baxis": {
            "gridcolor": "white",
            "linecolor": "white",
            "ticks": ""
           },
           "bgcolor": "#E5ECF6",
           "caxis": {
            "gridcolor": "white",
            "linecolor": "white",
            "ticks": ""
           }
          },
          "title": {
           "x": 0.05
          },
          "xaxis": {
           "automargin": true,
           "gridcolor": "white",
           "linecolor": "white",
           "ticks": "",
           "zerolinecolor": "white",
           "zerolinewidth": 2
          },
          "yaxis": {
           "automargin": true,
           "gridcolor": "white",
           "linecolor": "white",
           "ticks": "",
           "zerolinecolor": "white",
           "zerolinewidth": 2
          }
         }
        },
        "title": {
         "text": "Optimized batches for cluster#0"
        },
        "xaxis": {
         "autorange": true,
         "range": [
          "2017-11-21 02:42:06.2595",
          "2019-08-17 21:17:53.7405"
         ],
         "title": {
          "text": "Date"
         },
         "type": "date"
        },
        "yaxis": {
         "range": [
          1522.9672811314565,
          7394.180590412454
         ],
         "title": {
          "text": "Quantities"
         },
         "type": "linear"
        }
       }
      },
      "image/png": "[encoded data removed]",
      "text/html": [
       "<div>\n",
       "        \n",
       "        \n",
       "            <div id=\"5c415903-9025-48f0-8824-3fde3969c9c7\" class=\"plotly-graph-div\" style=\"height:525px; width:100%;\"></div>\n",
       "            <script type=\"text/javascript\">\n",
       "                require([\"plotly\"], function(Plotly) {\n",
       "                    window.PLOTLYENV=window.PLOTLYENV || {};\n",
       "                    \n",
       "                if (document.getElementById(\"5c415903-9025-48f0-8824-3fde3969c9c7\")) {\n",
       "                    Plotly.newPlot(\n",
       "                        '5c415903-9025-48f0-8824-3fde3969c9c7',\n",
       "                        [{\"mode\": \"markers\", \"name\": \"Cluster 0\", \"type\": \"scatter\", \"x\": [\"2017-12-28\", \"2018-03-11\", \"2018-05-18\", \"2018-07-25\", \"2018-10-04\", \"2018-12-21\", \"2019-02-21\", \"2019-04-21\", \"2019-07-07\", \"2017-12-26\", \"2018-02-11\", \"2018-03-19\", \"2018-05-01\", \"2018-06-06\", \"2018-07-25\", \"2018-08-20\", \"2018-09-28\", \"2018-11-13\", \"2018-12-27\", \"2019-02-08\", \"2019-03-09\", \"2019-04-19\", \"2019-05-29\", \"2019-07-14\", \"2017-12-31\", \"2018-06-08\", \"2018-11-08\", \"2019-04-19\", \"2017-12-30\", \"2018-06-14\", \"2018-11-23\", \"2019-04-30\"], \"y\": [5038.61915896886, 4658.195180889406, 4676.433462461426, 5067.550234162787, 4602.62839791011, 4873.4629457846395, 5336.037630087328, 5112.239649877762, 5104.938013722983, 6314.400965995367, 6181.772772121883, 5577.890227833219, 5241.6551738544, 5274.909500826835, 6082.095754189994, 5524.199875810919, 6208.139345831026, 5202.157893782903, 6095.953713898589, 6097.284358823955, 5381.3172263601255, 5811.909802552826, 6215.565413288294, 5517.380754043955, 6572.00920377897, 7394.180590412454, 6829.46244357957, 6285.941605442479, 1522.9672811314565, 1805.8089369061936, 1634.2935853641995, 1776.8498901564392]}, {\"marker\": {\"color\": \"lightgrey\"}, \"name\": \"Batch dates\", \"type\": \"bar\", \"x\": [\"2017-12-28T12:00:00\", \"2018-02-11T00:00:00\", \"2018-03-15T00:00:00\", \"2018-05-01T00:00:00\", \"2018-05-18T00:00:00\", \"2018-06-10T00:00:00\", \"2018-07-25T00:00:00\", \"2018-08-20T00:00:00\", \"2018-10-01T00:00:00\", \"2018-11-10T12:00:00\", \"2018-11-23T00:00:00\", \"2018-12-24T00:00:00\", \"2019-02-08T00:00:00\", \"2019-02-21T00:00:00\", \"2019-03-09T00:00:00\", \"2019-04-20T00:00:00\", \"2019-04-30T00:00:00\", \"2019-05-29T00:00:00\", \"2019-07-10T12:00:00\"], \"y\": [7394.180590412454, 7394.180590412454, 7394.180590412454, 7394.180590412454, 7394.180590412454, 7394.180590412454, 7394.180590412454, 7394.180590412454, 7394.180590412454, 7394.180590412454, 7394.180590412454, 7394.180590412454, 7394.180590412454, 7394.180590412454, 7394.180590412454, 7394.180590412454, 7394.180590412454, 7394.180590412454, 7394.180590412454]}, {\"mode\": \"markers\", \"name\": \"batch 1\", \"type\": \"scatter\", \"x\": [\"2017-12-26\", \"2017-12-28\", \"2017-12-30\", \"2017-12-31\"], \"y\": [6314.400965995367, 5038.61915896886, 1522.9672811314565, 6572.00920377897]}, {\"mode\": \"markers\", \"name\": \"batch 2\", \"type\": \"scatter\", \"x\": [\"2018-06-06\", \"2018-06-08\", \"2018-06-14\"], \"y\": [5274.909500826835, 7394.180590412454, 1805.8089369061936]}, {\"mode\": \"markers\", \"name\": \"batch 3\", \"type\": \"scatter\", \"x\": [\"2019-04-19\", \"2019-04-19\", \"2019-04-21\"], \"y\": [5811.909802552826, 6285.941605442479, 5112.239649877762]}, {\"mode\": \"markers\", \"name\": \"batch 9\", \"type\": \"scatter\", \"x\": [\"2018-03-11\", \"2018-03-19\"], \"y\": [4658.195180889406, 5577.890227833219]}, {\"mode\": \"markers\", \"name\": \"batch 8\", \"type\": \"scatter\", \"x\": [\"2019-07-07\", \"2019-07-14\"], \"y\": [5104.938013722983, 5517.380754043955]}, {\"mode\": \"markers\", \"name\": \"batch 4\", \"type\": \"scatter\", \"x\": [\"2018-09-28\", \"2018-10-04\"], \"y\": [6208.139345831026, 4602.62839791011]}, {\"mode\": \"markers\", \"name\": \"batch 5\", \"type\": \"scatter\", \"x\": [\"2018-12-21\", \"2018-12-27\"], \"y\": [4873.4629457846395, 6095.953713898589]}, {\"mode\": \"markers\", \"name\": \"batch 6\", \"type\": \"scatter\", \"x\": [\"2018-11-08\", \"2018-11-13\"], \"y\": [6829.46244357957, 5202.157893782903]}, {\"mode\": \"markers\", \"name\": \"batch 7\", \"type\": \"scatter\", \"x\": [\"2018-07-25\", \"2018-07-25\"], \"y\": [5067.550234162787, 6082.095754189994]}, {\"mode\": \"markers\", \"name\": \"batch 18\", \"type\": \"scatter\", \"x\": [\"2018-08-20\"], \"y\": [5524.199875810919]}, {\"mode\": \"markers\", \"name\": \"batch 17\", \"type\": \"scatter\", \"x\": [\"2018-05-18\"], \"y\": [4676.433462461426]}, {\"mode\": \"markers\", \"name\": \"batch 10\", \"type\": \"scatter\", \"x\": [\"2019-05-29\"], \"y\": [6215.565413288294]}, {\"mode\": \"markers\", \"name\": \"batch 11\", \"type\": \"scatter\", \"x\": [\"2018-02-11\"], \"y\": [6181.772772121883]}, {\"mode\": \"markers\", \"name\": \"batch 12\", \"type\": \"scatter\", \"x\": [\"2019-03-09\"], \"y\": [5381.3172263601255]}, {\"mode\": \"markers\", \"name\": \"batch 13\", \"type\": \"scatter\", \"x\": [\"2019-02-21\"], \"y\": [5336.037630087328]}, {\"mode\": \"markers\", \"name\": \"batch 14\", \"type\": \"scatter\", \"x\": [\"2019-02-08\"], \"y\": [6097.284358823955]}, {\"mode\": \"markers\", \"name\": \"batch 15\", \"type\": \"scatter\", \"x\": [\"2018-05-01\"], \"y\": [5241.6551738544]}, {\"mode\": \"markers\", \"name\": \"batch 16\", \"type\": \"scatter\", \"x\": [\"2018-11-23\"], \"y\": [1634.2935853641995]}, {\"mode\": \"markers\", \"name\": \"batch 0\", \"type\": \"scatter\", \"x\": [\"2019-04-30\"], \"y\": [1776.8498901564392]}],\n",
       "                        {\"template\": {\"data\": {\"bar\": [{\"error_x\": {\"color\": \"#2a3f5f\"}, \"error_y\": {\"color\": \"#2a3f5f\"}, \"marker\": {\"line\": {\"color\": \"#E5ECF6\", \"width\": 0.5}}, \"type\": \"bar\"}], \"barpolar\": [{\"marker\": {\"line\": {\"color\": \"#E5ECF6\", \"width\": 0.5}}, \"type\": \"barpolar\"}], \"carpet\": [{\"aaxis\": {\"endlinecolor\": \"#2a3f5f\", \"gridcolor\": \"white\", \"linecolor\": \"white\", \"minorgridcolor\": \"white\", \"startlinecolor\": \"#2a3f5f\"}, \"baxis\": {\"endlinecolor\": \"#2a3f5f\", \"gridcolor\": \"white\", \"linecolor\": \"white\", \"minorgridcolor\": \"white\", \"startlinecolor\": \"#2a3f5f\"}, \"type\": \"carpet\"}], \"choropleth\": [{\"colorbar\": {\"outlinewidth\": 0, \"ticks\": \"\"}, \"type\": \"choropleth\"}], \"contour\": [{\"colorbar\": {\"outlinewidth\": 0, \"ticks\": \"\"}, \"colorscale\": [[0.0, \"#0d0887\"], [0.1111111111111111, \"#46039f\"], [0.2222222222222222, \"#7201a8\"], [0.3333333333333333, \"#9c179e\"], [0.4444444444444444, \"#bd3786\"], [0.5555555555555556, \"#d8576b\"], [0.6666666666666666, \"#ed7953\"], [0.7777777777777778, \"#fb9f3a\"], [0.8888888888888888, \"#fdca26\"], [1.0, \"#f0f921\"]], \"type\": \"contour\"}], \"contourcarpet\": [{\"colorbar\": {\"outlinewidth\": 0, \"ticks\": \"\"}, \"type\": \"contourcarpet\"}], \"heatmap\": [{\"colorbar\": {\"outlinewidth\": 0, \"ticks\": \"\"}, \"colorscale\": [[0.0, \"#0d0887\"], [0.1111111111111111, \"#46039f\"], [0.2222222222222222, \"#7201a8\"], [0.3333333333333333, \"#9c179e\"], [0.4444444444444444, \"#bd3786\"], [0.5555555555555556, \"#d8576b\"], [0.6666666666666666, \"#ed7953\"], [0.7777777777777778, \"#fb9f3a\"], [0.8888888888888888, \"#fdca26\"], [1.0, \"#f0f921\"]], \"type\": \"heatmap\"}], \"heatmapgl\": [{\"colorbar\": {\"outlinewidth\": 0, \"ticks\": \"\"}, \"colorscale\": [[0.0, \"#0d0887\"], [0.1111111111111111, \"#46039f\"], [0.2222222222222222, \"#7201a8\"], [0.3333333333333333, \"#9c179e\"], [0.4444444444444444, \"#bd3786\"], [0.5555555555555556, \"#d8576b\"], [0.6666666666666666, \"#ed7953\"], [0.7777777777777778, \"#fb9f3a\"], [0.8888888888888888, \"#fdca26\"], [1.0, \"#f0f921\"]], \"type\": \"heatmapgl\"}], \"histogram\": [{\"marker\": {\"colorbar\": {\"outlinewidth\": 0, \"ticks\": \"\"}}, \"type\": \"histogram\"}], \"histogram2d\": [{\"colorbar\": {\"outlinewidth\": 0, \"ticks\": \"\"}, \"colorscale\": [[0.0, \"#0d0887\"], [0.1111111111111111, \"#46039f\"], [0.2222222222222222, \"#7201a8\"], [0.3333333333333333, \"#9c179e\"], [0.4444444444444444, \"#bd3786\"], [0.5555555555555556, \"#d8576b\"], [0.6666666666666666, \"#ed7953\"], [0.7777777777777778, \"#fb9f3a\"], [0.8888888888888888, \"#fdca26\"], [1.0, \"#f0f921\"]], \"type\": \"histogram2d\"}], \"histogram2dcontour\": [{\"colorbar\": {\"outlinewidth\": 0, \"ticks\": \"\"}, \"colorscale\": [[0.0, \"#0d0887\"], [0.1111111111111111, \"#46039f\"], [0.2222222222222222, \"#7201a8\"], [0.3333333333333333, \"#9c179e\"], [0.4444444444444444, \"#bd3786\"], [0.5555555555555556, \"#d8576b\"], [0.6666666666666666, \"#ed7953\"], [0.7777777777777778, \"#fb9f3a\"], [0.8888888888888888, \"#fdca26\"], [1.0, \"#f0f921\"]], \"type\": \"histogram2dcontour\"}], \"mesh3d\": [{\"colorbar\": {\"outlinewidth\": 0, \"ticks\": \"\"}, \"type\": \"mesh3d\"}], \"parcoords\": [{\"line\": {\"colorbar\": {\"outlinewidth\": 0, \"ticks\": \"\"}}, \"type\": \"parcoords\"}], \"scatter\": [{\"marker\": {\"colorbar\": {\"outlinewidth\": 0, \"ticks\": \"\"}}, \"type\": \"scatter\"}], \"scatter3d\": [{\"line\": {\"colorbar\": {\"outlinewidth\": 0, \"ticks\": \"\"}}, \"marker\": {\"colorbar\": {\"outlinewidth\": 0, \"ticks\": \"\"}}, \"type\": \"scatter3d\"}], \"scattercarpet\": [{\"marker\": {\"colorbar\": {\"outlinewidth\": 0, \"ticks\": \"\"}}, \"type\": \"scattercarpet\"}], \"scattergeo\": [{\"marker\": {\"colorbar\": {\"outlinewidth\": 0, \"ticks\": \"\"}}, \"type\": \"scattergeo\"}], \"scattergl\": [{\"marker\": {\"colorbar\": {\"outlinewidth\": 0, \"ticks\": \"\"}}, \"type\": \"scattergl\"}], \"scattermapbox\": [{\"marker\": {\"colorbar\": {\"outlinewidth\": 0, \"ticks\": \"\"}}, \"type\": \"scattermapbox\"}], \"scatterpolar\": [{\"marker\": {\"colorbar\": {\"outlinewidth\": 0, \"ticks\": \"\"}}, \"type\": \"scatterpolar\"}], \"scatterpolargl\": [{\"marker\": {\"colorbar\": {\"outlinewidth\": 0, \"ticks\": \"\"}}, \"type\": \"scatterpolargl\"}], \"scatterternary\": [{\"marker\": {\"colorbar\": {\"outlinewidth\": 0, \"ticks\": \"\"}}, \"type\": \"scatterternary\"}], \"surface\": [{\"colorbar\": {\"outlinewidth\": 0, \"ticks\": \"\"}, \"colorscale\": [[0.0, \"#0d0887\"], [0.1111111111111111, \"#46039f\"], [0.2222222222222222, \"#7201a8\"], [0.3333333333333333, \"#9c179e\"], [0.4444444444444444, \"#bd3786\"], [0.5555555555555556, \"#d8576b\"], [0.6666666666666666, \"#ed7953\"], [0.7777777777777778, \"#fb9f3a\"], [0.8888888888888888, \"#fdca26\"], [1.0, \"#f0f921\"]], \"type\": \"surface\"}], \"table\": [{\"cells\": {\"fill\": {\"color\": \"#EBF0F8\"}, \"line\": {\"color\": \"white\"}}, \"header\": {\"fill\": {\"color\": \"#C8D4E3\"}, \"line\": {\"color\": \"white\"}}, \"type\": \"table\"}]}, \"layout\": {\"annotationdefaults\": {\"arrowcolor\": \"#2a3f5f\", \"arrowhead\": 0, \"arrowwidth\": 1}, \"colorscale\": {\"diverging\": [[0, \"#8e0152\"], [0.1, \"#c51b7d\"], [0.2, \"#de77ae\"], [0.3, \"#f1b6da\"], [0.4, \"#fde0ef\"], [0.5, \"#f7f7f7\"], [0.6, \"#e6f5d0\"], [0.7, \"#b8e186\"], [0.8, \"#7fbc41\"], [0.9, \"#4d9221\"], [1, \"#276419\"]], \"sequential\": [[0.0, \"#0d0887\"], [0.1111111111111111, \"#46039f\"], [0.2222222222222222, \"#7201a8\"], [0.3333333333333333, \"#9c179e\"], [0.4444444444444444, \"#bd3786\"], [0.5555555555555556, \"#d8576b\"], [0.6666666666666666, \"#ed7953\"], [0.7777777777777778, \"#fb9f3a\"], [0.8888888888888888, \"#fdca26\"], [1.0, \"#f0f921\"]], \"sequentialminus\": [[0.0, \"#0d0887\"], [0.1111111111111111, \"#46039f\"], [0.2222222222222222, \"#7201a8\"], [0.3333333333333333, \"#9c179e\"], [0.4444444444444444, \"#bd3786\"], [0.5555555555555556, \"#d8576b\"], [0.6666666666666666, \"#ed7953\"], [0.7777777777777778, \"#fb9f3a\"], [0.8888888888888888, \"#fdca26\"], [1.0, \"#f0f921\"]]}, \"colorway\": [\"#636efa\", \"#EF553B\", \"#00cc96\", \"#ab63fa\", \"#FFA15A\", \"#19d3f3\", \"#FF6692\", \"#B6E880\", \"#FF97FF\", \"#FECB52\"], \"font\": {\"color\": \"#2a3f5f\"}, \"geo\": {\"bgcolor\": \"white\", \"lakecolor\": \"white\", \"landcolor\": \"#E5ECF6\", \"showlakes\": true, \"showland\": true, \"subunitcolor\": \"white\"}, \"hoverlabel\": {\"align\": \"left\"}, \"hovermode\": \"closest\", \"mapbox\": {\"style\": \"light\"}, \"paper_bgcolor\": \"white\", \"plot_bgcolor\": \"#E5ECF6\", \"polar\": {\"angularaxis\": {\"gridcolor\": \"white\", \"linecolor\": \"white\", \"ticks\": \"\"}, \"bgcolor\": \"#E5ECF6\", \"radialaxis\": {\"gridcolor\": \"white\", \"linecolor\": \"white\", \"ticks\": \"\"}}, \"scene\": {\"xaxis\": {\"backgroundcolor\": \"#E5ECF6\", \"gridcolor\": \"white\", \"gridwidth\": 2, \"linecolor\": \"white\", \"showbackground\": true, \"ticks\": \"\", \"zerolinecolor\": \"white\"}, \"yaxis\": {\"backgroundcolor\": \"#E5ECF6\", \"gridcolor\": \"white\", \"gridwidth\": 2, \"linecolor\": \"white\", \"showbackground\": true, \"ticks\": \"\", \"zerolinecolor\": \"white\"}, \"zaxis\": {\"backgroundcolor\": \"#E5ECF6\", \"gridcolor\": \"white\", \"gridwidth\": 2, \"linecolor\": \"white\", \"showbackground\": true, \"ticks\": \"\", \"zerolinecolor\": \"white\"}}, \"shapedefaults\": {\"line\": {\"color\": \"#2a3f5f\"}}, \"ternary\": {\"aaxis\": {\"gridcolor\": \"white\", \"linecolor\": \"white\", \"ticks\": \"\"}, \"baxis\": {\"gridcolor\": \"white\", \"linecolor\": \"white\", \"ticks\": \"\"}, \"bgcolor\": \"#E5ECF6\", \"caxis\": {\"gridcolor\": \"white\", \"linecolor\": \"white\", \"ticks\": \"\"}}, \"title\": {\"x\": 0.05}, \"xaxis\": {\"automargin\": true, \"gridcolor\": \"white\", \"linecolor\": \"white\", \"ticks\": \"\", \"zerolinecolor\": \"white\", \"zerolinewidth\": 2}, \"yaxis\": {\"automargin\": true, \"gridcolor\": \"white\", \"linecolor\": \"white\", \"ticks\": \"\", \"zerolinecolor\": \"white\", \"zerolinewidth\": 2}}}, \"title\": {\"text\": \"Optimized batches for cluster#0\"}, \"xaxis\": {\"title\": {\"text\": \"Date\"}}, \"yaxis\": {\"range\": [1522.9672811314565, 7394.180590412454], \"title\": {\"text\": \"Quantities\"}}},\n",
       "                        {\"responsive\": true}\n",
       "                    ).then(function(){\n",
       "                            \n",
       "var gd = document.getElementById('5c415903-9025-48f0-8824-3fde3969c9c7');\n",
       "var x = new MutationObserver(function (mutations, observer) {{\n",
       "        var display = window.getComputedStyle(gd).display;\n",
       "        if (!display || display === 'none') {{\n",
       "            console.log([gd, 'removed!']);\n",
       "            Plotly.purge(gd);\n",
       "            observer.disconnect();\n",
       "        }}\n",
       "}});\n",
       "\n",
       "// Listen for the removal of the full notebook cells\n",
       "var notebookContainer = gd.closest('#notebook-container');\n",
       "if (notebookContainer) {{\n",
       "    x.observe(notebookContainer, {childList: true});\n",
       "}}\n",
       "\n",
       "// Listen for the clearing of the current output cell\n",
       "var outputEl = gd.closest('.output');\n",
       "if (outputEl) {{\n",
       "    x.observe(outputEl, {childList: true});\n",
       "}}\n",
       "\n",
       "                        })\n",
       "                };\n",
       "                });\n",
       "            </script>\n",
       "        </div>"
      ]
     },
     "metadata": {},
     "output_type": "display_data"
    }
   ],
   "source": [
    "sales_cluster_0_optimization=FaaS.optimize_orders_processing(sales_clusters_df,0,'10 days')"
   ]
  },
  {
   "cell_type": "code",
   "execution_count": 14,
   "metadata": {},
   "outputs": [
    {
     "data": {
      "text/html": [
       "<div>\n",
       "<style scoped>\n",
       "    .dataframe tbody tr th:only-of-type {\n",
       "        vertical-align: middle;\n",
       "    }\n",
       "\n",
       "    .dataframe tbody tr th {\n",
       "        vertical-align: top;\n",
       "    }\n",
       "\n",
       "    .dataframe thead th {\n",
       "        text-align: right;\n",
       "    }\n",
       "</style>\n",
       "<table border=\"1\" class=\"dataframe\">\n",
       "  <thead>\n",
       "    <tr style=\"text-align: right;\">\n",
       "      <th></th>\n",
       "      <th>noisy_quantity</th>\n",
       "      <th>number_of_previous_neighbours</th>\n",
       "      <th>batch</th>\n",
       "      <th>batch_date</th>\n",
       "    </tr>\n",
       "    <tr>\n",
       "      <th>noisy_date</th>\n",
       "      <th></th>\n",
       "      <th></th>\n",
       "      <th></th>\n",
       "      <th></th>\n",
       "    </tr>\n",
       "  </thead>\n",
       "  <tbody>\n",
       "    <tr>\n",
       "      <th>2017-12-26</th>\n",
       "      <td>6314.400966</td>\n",
       "      <td>1.0</td>\n",
       "      <td>1</td>\n",
       "      <td>2017-12-28 12:00:00</td>\n",
       "    </tr>\n",
       "    <tr>\n",
       "      <th>2017-12-28</th>\n",
       "      <td>5038.619159</td>\n",
       "      <td>2.0</td>\n",
       "      <td>1</td>\n",
       "      <td>2017-12-28 12:00:00</td>\n",
       "    </tr>\n",
       "    <tr>\n",
       "      <th>2017-12-30</th>\n",
       "      <td>1522.967281</td>\n",
       "      <td>3.0</td>\n",
       "      <td>1</td>\n",
       "      <td>2017-12-28 12:00:00</td>\n",
       "    </tr>\n",
       "    <tr>\n",
       "      <th>2017-12-31</th>\n",
       "      <td>6572.009204</td>\n",
       "      <td>4.0</td>\n",
       "      <td>1</td>\n",
       "      <td>2017-12-28 12:00:00</td>\n",
       "    </tr>\n",
       "    <tr>\n",
       "      <th>2018-02-11</th>\n",
       "      <td>6181.772772</td>\n",
       "      <td>1.0</td>\n",
       "      <td>11</td>\n",
       "      <td>2018-02-11 00:00:00</td>\n",
       "    </tr>\n",
       "  </tbody>\n",
       "</table>\n",
       "</div>"
      ],
      "text/plain": [
       "            noisy_quantity  number_of_previous_neighbours  batch  \\\n",
       "noisy_date                                                         \n",
       "2017-12-26     6314.400966                            1.0      1   \n",
       "2017-12-28     5038.619159                            2.0      1   \n",
       "2017-12-30     1522.967281                            3.0      1   \n",
       "2017-12-31     6572.009204                            4.0      1   \n",
       "2018-02-11     6181.772772                            1.0     11   \n",
       "\n",
       "                    batch_date  \n",
       "noisy_date                      \n",
       "2017-12-26 2017-12-28 12:00:00  \n",
       "2017-12-28 2017-12-28 12:00:00  \n",
       "2017-12-30 2017-12-28 12:00:00  \n",
       "2017-12-31 2017-12-28 12:00:00  \n",
       "2018-02-11 2018-02-11 00:00:00  "
      ]
     },
     "execution_count": 14,
     "metadata": {},
     "output_type": "execute_result"
    }
   ],
   "source": [
    "sales_cluster_0_optimization.head()"
   ]
  },
  {
   "cell_type": "code",
   "execution_count": null,
   "metadata": {},
   "outputs": [],
   "source": []
  }
 ],
 "metadata": {
  "kernelspec": {
   "display_name": "fastai",
   "language": "python",
   "name": "fastai"
  },
  "language_info": {
   "codemirror_mode": {
    "name": "ipython",
    "version": 3
   },
   "file_extension": ".py",
   "mimetype": "text/x-python",
   "name": "python",
   "nbconvert_exporter": "python",
   "pygments_lexer": "ipython3",
   "version": "3.7.3"
  }
 },
 "nbformat": 4,
 "nbformat_minor": 2
}
